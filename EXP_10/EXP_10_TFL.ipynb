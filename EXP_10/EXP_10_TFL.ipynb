{
 "cells": [
  {
   "cell_type": "code",
   "execution_count": 1,
   "metadata": {},
   "outputs": [
    {
     "name": "stdout",
     "output_type": "stream",
     "text": [
      "Mish activation loaded...\n"
     ]
    }
   ],
   "source": [
    "%matplotlib inline  \n",
    "from fastai.vision import *\n",
    "from fastai.data_block import _maybe_squeeze\n",
    "from fastai.callbacks import *\n",
    "from sklearn.model_selection import StratifiedKFold\n",
    "from joblib import load, dump\n",
    "from efficientnet_pytorch import EfficientNet\n",
    "from ranger import *\n",
    "from mxresnet import *"
   ]
  },
  {
   "cell_type": "code",
   "execution_count": 2,
   "metadata": {},
   "outputs": [],
   "source": [
    "def strt_split(x, y, n_folds=5, random_seed = 42, path=Path('')):  \n",
    "    try: \n",
    "        val_name = load('val_idx.joblib')\n",
    "    except:\n",
    "        skf = StratifiedKFold(n_splits=n_folds, shuffle=True, random_state=random_seed)\n",
    "        val_name = [(val_idx, trn_idx) for trn_idx, val_idx in skf.split(x, y)]\n",
    "        dump(val_name,'val_idx.joblib')\n",
    "    return val_name\n",
    "\n",
    "def modified_label_from_df(self, cols:IntsOrStrs=1, label_cls:Callable=None, **kwargs):\n",
    "    \"Label `self.items` from the values in `cols` in `self.inner_df`.\"\n",
    "    self.inner_df.labels.fillna('', inplace=True)\n",
    "    labels = self.inner_df.iloc[:,df_names_to_idx(cols, self.inner_df)]\n",
    "    assert labels.isna().sum().sum() == 0, f\"You have NaN values in column(s) {cols} of your dataframe, please fix it.\"\n",
    "    if is_listy(cols) and len(cols) > 1 and (label_cls is None or label_cls == MultiCategoryList):\n",
    "        new_kwargs,label_cls = dict(one_hot=True, classes= cols),MultiCategoryList\n",
    "        kwargs = {**new_kwargs, **kwargs}\n",
    "    return self._label_from_list(_maybe_squeeze(labels), label_cls=label_cls, **kwargs)\n",
    "\n",
    "\n",
    "def flattenAnneal(learn:Learner, lr:float, n_epochs:int, start_pct:float, SUFFIX = 'PHASE_1_COS'):\n",
    "    n = len(learn.data.train_dl)\n",
    "    anneal_start = int(n*n_epochs*start_pct)\n",
    "    anneal_end = int(n*n_epochs) - anneal_start\n",
    "    phases = [TrainingPhase(anneal_start).schedule_hp('lr', lr),\n",
    "             TrainingPhase(anneal_end).schedule_hp('lr', lr, anneal=annealing_cos)]\n",
    "    sched = GeneralScheduler(learn, phases)\n",
    "    learn.callbacks.append(sched)\n",
    "    learn.callbacks.append(SaveModelCallback(learn, every='improvement', monitor='valid_loss', name = f'{EXP_NAME}_{SUFFIX}'))\n",
    "    learn.fit(n_epochs)"
   ]
  },
  {
   "cell_type": "code",
   "execution_count": 4,
   "metadata": {},
   "outputs": [],
   "source": [
    "PATH = Path('..')\n",
    "FOLD =0\n",
    "BS =            64\n",
    "SZ =            512\n",
    "IMG_TRAIN_224 = PATH/f'stage_1_train_images_png'\n",
    "IMG_TEST_224  = PATH/f'stage_1_test_images_png'\n",
    "DF_TRAIN =      pd.read_csv(PATH/'train_labels_as_strings.csv')\n",
    "DF_SUBMI =      pd.read_csv(PATH/'stage_1_sample_submission.csv')\n",
    "EXP_NAME =      f'NB_EXP_10_CV_{FOLD}_TFL_{SZ}'\n",
    "\n",
    "\n",
    "DF_SUBMI['fn'] = DF_SUBMI.ID.apply(lambda x: '_'.join(x.split('_')[:2]) + '.png')\n",
    "DF_TRAIN['labels'].fillna('', inplace=True)\n",
    "VAL_IDX = strt_split(DF_TRAIN['fn'], DF_TRAIN['labels'])[FOLD]"
   ]
  },
  {
   "cell_type": "code",
   "execution_count": 5,
   "metadata": {
    "scrolled": false
   },
   "outputs": [],
   "source": [
    "ItemList.label_from_df = modified_label_from_df\n",
    "test_fns = DF_SUBMI.fn.unique()\n",
    "\n",
    "data = (ImageList.from_csv('..', 'train_labels_as_strings.csv', folder=IMG_TRAIN_224.name)\n",
    "        .split_by_idxs(valid_idx=VAL_IDX[0], train_idx=VAL_IDX[1])\n",
    "        .label_from_df(label_delim=' ')\n",
    "        .transform(tfms = get_transforms(),size=SZ)\n",
    "        .add_test('../' +IMG_TEST_224.name + '/' + test_fns)\n",
    "        .databunch(bs=BS))\n",
    "\n",
    "        "
   ]
  },
  {
   "cell_type": "code",
   "execution_count": 6,
   "metadata": {},
   "outputs": [],
   "source": [
    "md_xrsa =  mxresnet50(c_out=data.c, sa=True)\n",
    "opt_func = partial(Ranger, betas=(0.95,0.99), eps=1e-6)"
   ]
  },
  {
   "cell_type": "code",
   "execution_count": 7,
   "metadata": {
    "scrolled": false
   },
   "outputs": [
    {
     "name": "stdout",
     "output_type": "stream",
     "text": [
      "set state called\n"
     ]
    }
   ],
   "source": [
    "learn = Learner(data,\n",
    "                md_xrsa,\n",
    "                wd=1e-2,\n",
    "                bn_wd=False, \n",
    "                true_wd=True, \n",
    "                opt_func=opt_func,\n",
    "                metrics=[accuracy_thresh])\n",
    "\n",
    "learn.model = nn.DataParallel(learn.model)\n",
    "learn.load('NB_EXP_10_CV_0_PHASE_1_COS')\n",
    "learn.to_fp16()\n",
    "learn.unfreeze()"
   ]
  },
  {
   "cell_type": "code",
   "execution_count": 8,
   "metadata": {},
   "outputs": [
    {
     "data": {
      "text/html": [
       "<table border=\"1\" class=\"dataframe\">\n",
       "  <thead>\n",
       "    <tr style=\"text-align: left;\">\n",
       "      <th>epoch</th>\n",
       "      <th>train_loss</th>\n",
       "      <th>valid_loss</th>\n",
       "      <th>accuracy_thresh</th>\n",
       "      <th>time</th>\n",
       "    </tr>\n",
       "  </thead>\n",
       "  <tbody>\n",
       "    <tr>\n",
       "      <td>0</td>\n",
       "      <td>0.062339</td>\n",
       "      <td>0.064564</td>\n",
       "      <td>0.976867</td>\n",
       "      <td>1:50:04</td>\n",
       "    </tr>\n",
       "    <tr>\n",
       "      <td>1</td>\n",
       "      <td>0.066059</td>\n",
       "      <td>0.062597</td>\n",
       "      <td>0.977453</td>\n",
       "      <td>1:54:54</td>\n",
       "    </tr>\n",
       "    <tr>\n",
       "      <td>2</td>\n",
       "      <td>0.059420</td>\n",
       "      <td>0.063111</td>\n",
       "      <td>0.977134</td>\n",
       "      <td>1:51:56</td>\n",
       "    </tr>\n",
       "    <tr>\n",
       "      <td>3</td>\n",
       "      <td>0.062666</td>\n",
       "      <td>0.059079</td>\n",
       "      <td>0.978630</td>\n",
       "      <td>1:58:19</td>\n",
       "    </tr>\n",
       "    <tr>\n",
       "      <td>4</td>\n",
       "      <td>0.050205</td>\n",
       "      <td>0.055050</td>\n",
       "      <td>0.979957</td>\n",
       "      <td>1:49:11</td>\n",
       "    </tr>\n",
       "  </tbody>\n",
       "</table>"
      ],
      "text/plain": [
       "<IPython.core.display.HTML object>"
      ]
     },
     "metadata": {},
     "output_type": "display_data"
    },
    {
     "name": "stdout",
     "output_type": "stream",
     "text": [
      "Better model found at epoch 0 with valid_loss value: 0.06456393003463745.\n",
      "Better model found at epoch 1 with valid_loss value: 0.06259684264659882.\n",
      "Better model found at epoch 3 with valid_loss value: 0.059079453349113464.\n",
      "Better model found at epoch 4 with valid_loss value: 0.0550495982170105.\n",
      "set state called\n"
     ]
    }
   ],
   "source": [
    "lr = 1e-3\n",
    "flattenAnneal(learn, lr, 5, 0.7)"
   ]
  },
  {
   "cell_type": "code",
   "execution_count": 9,
   "metadata": {},
   "outputs": [],
   "source": [
    "def get_preds(learn:Learner, sub_fn: str=f'{EXP_NAME}_COS', TTA: bool = False, dt_type = DatasetType.Test):\n",
    "    if TTA:\n",
    "        learn.to_fp32()\n",
    "        preds, targs = learn.TTA(ds_type=dt_type)\n",
    "        sub_fn = f'{sub_fn}_TTA'\n",
    "    else:\n",
    "        preds, targs = learn.get_preds(dt_type)\n",
    "    ids = []\n",
    "    labels = []\n",
    "\n",
    "    for fn, pred in zip(test_fns, preds):\n",
    "        for i, label in enumerate(data.train_ds.classes):\n",
    "            ids.append(f\"{fn.split('.')[0]}_{label}\")\n",
    "            predicted_probability = '{0:1.10f}'.format(pred[i].item())\n",
    "            labels.append(predicted_probability)\n",
    "    pd.DataFrame({'ID': ids, 'Label': labels}).to_csv(f'{sub_fn}.csv', index=False)"
   ]
  },
  {
   "cell_type": "code",
   "execution_count": 10,
   "metadata": {},
   "outputs": [],
   "source": [
    "get_preds(learn)"
   ]
  },
  {
   "cell_type": "code",
   "execution_count": 11,
   "metadata": {},
   "outputs": [
    {
     "data": {
      "text/html": [],
      "text/plain": [
       "<IPython.core.display.HTML object>"
      ]
     },
     "metadata": {},
     "output_type": "display_data"
    }
   ],
   "source": [
    "get_preds(learn, TTA=True)"
   ]
  },
  {
   "cell_type": "code",
   "execution_count": 12,
   "metadata": {},
   "outputs": [
    {
     "name": "stdout",
     "output_type": "stream",
     "text": [
      "Shutdown scheduled for Mon 2019-09-30 03:41:52 UTC, use 'shutdown -c' to cancel.\r\n"
     ]
    }
   ],
   "source": [
    "!sudo shutdown"
   ]
  },
  {
   "cell_type": "code",
   "execution_count": null,
   "metadata": {},
   "outputs": [],
   "source": []
  }
 ],
 "metadata": {
  "kernelspec": {
   "display_name": "Python 3",
   "language": "python",
   "name": "python3"
  },
  "language_info": {
   "codemirror_mode": {
    "name": "ipython",
    "version": 3
   },
   "file_extension": ".py",
   "mimetype": "text/x-python",
   "name": "python",
   "nbconvert_exporter": "python",
   "pygments_lexer": "ipython3",
   "version": "3.7.4"
  }
 },
 "nbformat": 4,
 "nbformat_minor": 2
}
