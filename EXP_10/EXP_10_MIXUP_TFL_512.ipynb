{
 "cells": [
  {
   "cell_type": "code",
   "execution_count": 1,
   "metadata": {},
   "outputs": [
    {
     "name": "stdout",
     "output_type": "stream",
     "text": [
      "Mish activation loaded...\n"
     ]
    }
   ],
   "source": [
    "%matplotlib inline  \n",
    "from fastai.vision import *\n",
    "from fastai.data_block import _maybe_squeeze\n",
    "from fastai.callbacks import *\n",
    "from sklearn.model_selection import StratifiedKFold\n",
    "from joblib import load, dump\n",
    "from efficientnet_pytorch import EfficientNet\n",
    "from ranger import *\n",
    "from mxresnet import *"
   ]
  },
  {
   "cell_type": "code",
   "execution_count": 2,
   "metadata": {},
   "outputs": [],
   "source": [
    "def strt_split(x, y, n_folds=5, random_seed = 42, path=Path('')):  \n",
    "    try: \n",
    "        val_name = load('val_idx.joblib')\n",
    "    except:\n",
    "        skf = StratifiedKFold(n_splits=n_folds, shuffle=True, random_state=random_seed)\n",
    "        val_name = [(val_idx, trn_idx) for trn_idx, val_idx in skf.split(x, y)]\n",
    "        dump(val_name,'val_idx.joblib')\n",
    "    return val_name\n",
    "\n",
    "def modified_label_from_df(self, cols:IntsOrStrs=1, label_cls:Callable=None, **kwargs):\n",
    "    \"Label `self.items` from the values in `cols` in `self.inner_df`.\"\n",
    "    self.inner_df.labels.fillna('', inplace=True)\n",
    "    labels = self.inner_df.iloc[:,df_names_to_idx(cols, self.inner_df)]\n",
    "    assert labels.isna().sum().sum() == 0, f\"You have NaN values in column(s) {cols} of your dataframe, please fix it.\"\n",
    "    if is_listy(cols) and len(cols) > 1 and (label_cls is None or label_cls == MultiCategoryList):\n",
    "        new_kwargs,label_cls = dict(one_hot=True, classes= cols),MultiCategoryList\n",
    "        kwargs = {**new_kwargs, **kwargs}\n",
    "    return self._label_from_list(_maybe_squeeze(labels), label_cls=label_cls, **kwargs)\n",
    "\n",
    "\n",
    "def flattenAnneal(learn:Learner, lr:float, n_epochs:int, start_pct:float, SUFFIX = 'PHASE_1_COS'):\n",
    "    n = len(learn.data.train_dl)\n",
    "    anneal_start = int(n*n_epochs*start_pct)\n",
    "    anneal_end = int(n*n_epochs) - anneal_start\n",
    "    phases = [TrainingPhase(anneal_start).schedule_hp('lr', lr),\n",
    "             TrainingPhase(anneal_end).schedule_hp('lr', lr, anneal=annealing_cos)]\n",
    "    sched = GeneralScheduler(learn, phases)\n",
    "    learn.callbacks.append(sched)\n",
    "    learn.callbacks.append(SaveModelCallback(learn, every='improvement', monitor='valid_loss', name = f'{EXP_NAME}_{SUFFIX}'))\n",
    "    learn.fit(n_epochs)"
   ]
  },
  {
   "cell_type": "code",
   "execution_count": 3,
   "metadata": {},
   "outputs": [],
   "source": [
    "PATH = Path('..')\n",
    "FOLD =0\n",
    "BS =            96\n",
    "SZ =            512\n",
    "EXP_NAME =      f'NB_EXP_10_CV_{FOLD}_MIXUP_TFL_{SZ}'\n",
    "IMG_TRAIN_224 = PATH/'stage_1_train_images_png'\n",
    "IMG_TEST_224  = PATH/'stage_1_test_images_png'\n",
    "DF_TRAIN =      pd.read_csv(PATH/'train_labels_as_strings.csv')\n",
    "DF_SUBMI =      pd.read_csv(PATH/'stage_1_sample_submission.csv')\n",
    "\n",
    "\n",
    "\n",
    "DF_SUBMI['fn'] = DF_SUBMI.ID.apply(lambda x: '_'.join(x.split('_')[:2]) + '.png')\n",
    "DF_TRAIN['labels'].fillna('', inplace=True)\n",
    "VAL_IDX = strt_split(DF_TRAIN['fn'], DF_TRAIN['labels'])[FOLD]"
   ]
  },
  {
   "cell_type": "code",
   "execution_count": 4,
   "metadata": {
    "scrolled": false
   },
   "outputs": [],
   "source": [
    "ItemList.label_from_df = modified_label_from_df\n",
    "test_fns = DF_SUBMI.fn.unique()\n",
    "tfms = get_transforms(max_rotate=30, xtra_tfms= zoom_crop(scale=(1.05, 1.4), do_rand=True))\n",
    "\n",
    "data = (ImageList.from_csv('..', 'train_labels_as_strings.csv', folder=IMG_TRAIN_224.name)\n",
    "        .split_by_idxs(valid_idx=VAL_IDX[0], train_idx=VAL_IDX[1])\n",
    "        .label_from_df(label_delim=' ')\n",
    "        .transform(tfms = tfms,size=SZ)\n",
    "        .add_test('../' +IMG_TEST_224.name + '/' + test_fns)\n",
    "        .databunch(bs=BS))\n",
    "\n",
    "        "
   ]
  },
  {
   "cell_type": "code",
   "execution_count": 5,
   "metadata": {},
   "outputs": [],
   "source": [
    "md_xrsa =  mxresnet50(c_out=data.c, sa=True)\n",
    "opt_func = partial(Ranger, betas=(0.92,0.99), eps=1e-6)"
   ]
  },
  {
   "cell_type": "code",
   "execution_count": 6,
   "metadata": {},
   "outputs": [
    {
     "name": "stdout",
     "output_type": "stream",
     "text": [
      "set state called\n"
     ]
    }
   ],
   "source": [
    "learn = Learner(data,\n",
    "                md_xrsa,\n",
    "                wd=1e-2,\n",
    "                bn_wd=False, \n",
    "                true_wd=True, \n",
    "                opt_func=opt_func,\n",
    "                metrics=[accuracy_thresh])\n",
    "\n",
    "learn.model = nn.DataParallel(learn.model)\n",
    "learn.to_fp16()\n",
    "learn.load('NB_EXP_10_CV_0_MIXUP_PHASE_2_1CYL')\n",
    "learn.mixup(stack_y=False)\n",
    "learn.unfreeze()"
   ]
  },
  {
   "cell_type": "code",
   "execution_count": 9,
   "metadata": {},
   "outputs": [
    {
     "data": {
      "text/plain": [
       "<matplotlib.lines.Line2D at 0x7f40f8075190>"
      ]
     },
     "execution_count": 9,
     "metadata": {},
     "output_type": "execute_result"
    },
    {
     "data": {
      "image/png": "[encoded data removed]",
      "text/plain": [
       "<Figure size 432x288 with 1 Axes>"
      ]
     },
     "metadata": {
      "needs_background": "light"
     },
     "output_type": "display_data"
    }
   ],
   "source": [
    "lr = 2e-3/2\n",
    "learn.recorder.plot()\n",
    "plt.axvline(lr)"
   ]
  },
  {
   "cell_type": "code",
   "execution_count": null,
   "metadata": {},
   "outputs": [
    {
     "data": {
      "text/html": [
       "\n",
       "    <div>\n",
       "        <style>\n",
       "            /* Turns off some styling */\n",
       "            progress {\n",
       "                /* gets rid of default border in Firefox and Opera. */\n",
       "                border: none;\n",
       "                /* Needs to be in here for Safari polyfill so background images work as expected. */\n",
       "                background-size: auto;\n",
       "            }\n",
       "            .progress-bar-interrupted, .progress-bar-interrupted::-webkit-progress-bar {\n",
       "                background: #F44336;\n",
       "            }\n",
       "        </style>\n",
       "      <progress value='13' class='' max='15', style='width:300px; height:20px; vertical-align: middle;'></progress>\n",
       "      86.67% [13/15 22:34:43<3:28:25]\n",
       "    </div>\n",
       "    \n",
       "<table border=\"1\" class=\"dataframe\">\n",
       "  <thead>\n",
       "    <tr style=\"text-align: left;\">\n",
       "      <th>epoch</th>\n",
       "      <th>train_loss</th>\n",
       "      <th>valid_loss</th>\n",
       "      <th>accuracy_thresh</th>\n",
       "      <th>time</th>\n",
       "    </tr>\n",
       "  </thead>\n",
       "  <tbody>\n",
       "    <tr>\n",
       "      <td>0</td>\n",
       "      <td>0.101846</td>\n",
       "      <td>0.062687</td>\n",
       "      <td>0.977145</td>\n",
       "      <td>1:45:25</td>\n",
       "    </tr>\n",
       "    <tr>\n",
       "      <td>1</td>\n",
       "      <td>0.098422</td>\n",
       "      <td>0.061823</td>\n",
       "      <td>0.977819</td>\n",
       "      <td>1:44:16</td>\n",
       "    </tr>\n",
       "    <tr>\n",
       "      <td>2</td>\n",
       "      <td>0.098480</td>\n",
       "      <td>0.059609</td>\n",
       "      <td>0.978233</td>\n",
       "      <td>1:43:56</td>\n",
       "    </tr>\n",
       "    <tr>\n",
       "      <td>3</td>\n",
       "      <td>0.091377</td>\n",
       "      <td>0.059312</td>\n",
       "      <td>0.978402</td>\n",
       "      <td>1:44:32</td>\n",
       "    </tr>\n",
       "    <tr>\n",
       "      <td>4</td>\n",
       "      <td>0.097113</td>\n",
       "      <td>0.072401</td>\n",
       "      <td>0.975346</td>\n",
       "      <td>1:44:31</td>\n",
       "    </tr>\n",
       "    <tr>\n",
       "      <td>5</td>\n",
       "      <td>0.091411</td>\n",
       "      <td>0.060781</td>\n",
       "      <td>0.978241</td>\n",
       "      <td>1:44:33</td>\n",
       "    </tr>\n",
       "    <tr>\n",
       "      <td>6</td>\n",
       "      <td>0.095061</td>\n",
       "      <td>0.058778</td>\n",
       "      <td>0.979004</td>\n",
       "      <td>1:43:26</td>\n",
       "    </tr>\n",
       "    <tr>\n",
       "      <td>7</td>\n",
       "      <td>0.090969</td>\n",
       "      <td>0.057714</td>\n",
       "      <td>0.978947</td>\n",
       "      <td>1:44:25</td>\n",
       "    </tr>\n",
       "    <tr>\n",
       "      <td>8</td>\n",
       "      <td>0.090379</td>\n",
       "      <td>nan</td>\n",
       "      <td>0.978689</td>\n",
       "      <td>1:43:40</td>\n",
       "    </tr>\n",
       "    <tr>\n",
       "      <td>9</td>\n",
       "      <td>0.088804</td>\n",
       "      <td>0.056354</td>\n",
       "      <td>0.979421</td>\n",
       "      <td>1:43:49</td>\n",
       "    </tr>\n",
       "    <tr>\n",
       "      <td>10</td>\n",
       "      <td>0.087857</td>\n",
       "      <td>0.056154</td>\n",
       "      <td>0.979582</td>\n",
       "      <td>1:42:49</td>\n",
       "    </tr>\n",
       "    <tr>\n",
       "      <td>11</td>\n",
       "      <td>0.086444</td>\n",
       "      <td>0.054722</td>\n",
       "      <td>0.980179</td>\n",
       "      <td>1:44:43</td>\n",
       "    </tr>\n",
       "    <tr>\n",
       "      <td>12</td>\n",
       "      <td>0.084483</td>\n",
       "      <td>0.054893</td>\n",
       "      <td>0.980184</td>\n",
       "      <td>1:44:27</td>\n",
       "    </tr>\n",
       "  </tbody>\n",
       "</table><p>\n",
       "\n",
       "    <div>\n",
       "        <style>\n",
       "            /* Turns off some styling */\n",
       "            progress {\n",
       "                /* gets rid of default border in Firefox and Opera. */\n",
       "                border: none;\n",
       "                /* Needs to be in here for Safari polyfill so background images work as expected. */\n",
       "                background-size: auto;\n",
       "            }\n",
       "            .progress-bar-interrupted, .progress-bar-interrupted::-webkit-progress-bar {\n",
       "                background: #F44336;\n",
       "            }\n",
       "        </style>\n",
       "      <progress value='3177' class='' max='5618', style='width:300px; height:20px; vertical-align: middle;'></progress>\n",
       "      56.55% [3177/5618 54:10<41:37 0.0847]\n",
       "    </div>\n",
       "    "
      ],
      "text/plain": [
       "<IPython.core.display.HTML object>"
      ]
     },
     "metadata": {},
     "output_type": "display_data"
    },
    {
     "name": "stdout",
     "output_type": "stream",
     "text": [
      "Better model found at epoch 0 with valid_loss value: 0.06268664449453354.\n",
      "Better model found at epoch 1 with valid_loss value: 0.06182285398244858.\n",
      "Better model found at epoch 2 with valid_loss value: 0.05960884317755699.\n",
      "Better model found at epoch 3 with valid_loss value: 0.05931203067302704.\n",
      "Better model found at epoch 6 with valid_loss value: 0.058777570724487305.\n",
      "Better model found at epoch 7 with valid_loss value: 0.05771423876285553.\n",
      "Better model found at epoch 9 with valid_loss value: 0.056354425847530365.\n",
      "Better model found at epoch 10 with valid_loss value: 0.05615409463644028.\n",
      "Better model found at epoch 11 with valid_loss value: 0.05472166836261749.\n"
     ]
    }
   ],
   "source": [
    "lr = 2e-3/2\n",
    "flattenAnneal(learn, lr, 15, 0.3)"
   ]
  },
  {
   "cell_type": "code",
   "execution_count": 7,
   "metadata": {},
   "outputs": [],
   "source": [
    "def get_preds(learn:Learner, sub_fn: str=f'{EXP_NAME}_PHASE_2_1CYL', TTA: bool = False, dt_type = DatasetType.Test):\n",
    "    if TTA:\n",
    "        learn.to_fp32()\n",
    "        preds, targs = learn.TTA(ds_type=dt_type)\n",
    "        sub_fn = f'{sub_fn}_TTA'\n",
    "    else:\n",
    "        preds, targs = learn.get_preds(dt_type)\n",
    "    ids = []\n",
    "    labels = []\n",
    "\n",
    "    for fn, pred in zip(test_fns, preds):\n",
    "        for i, label in enumerate(data.train_ds.classes):\n",
    "            ids.append(f\"{fn.split('.')[0]}_{label}\")\n",
    "            predicted_probability = '{0:1.10f}'.format(pred[i].item())\n",
    "            labels.append(predicted_probability)\n",
    "    pd.DataFrame({'ID': ids, 'Label': labels}).to_csv(f'{sub_fn}.csv', index=False)"
   ]
  },
  {
   "cell_type": "code",
   "execution_count": 8,
   "metadata": {},
   "outputs": [],
   "source": [
    "get_preds(learn)"
   ]
  },
  {
   "cell_type": "code",
   "execution_count": 9,
   "metadata": {},
   "outputs": [
    {
     "data": {
      "text/html": [],
      "text/plain": [
       "<IPython.core.display.HTML object>"
      ]
     },
     "metadata": {},
     "output_type": "display_data"
    }
   ],
   "source": [
    "get_preds(learn, TTA=True)"
   ]
  },
  {
   "cell_type": "code",
   "execution_count": null,
   "metadata": {},
   "outputs": [],
   "source": [
    "!sudo shutdown"
   ]
  },
  {
   "cell_type": "code",
   "execution_count": null,
   "metadata": {},
   "outputs": [],
   "source": []
  }
 ],
 "metadata": {
  "kernelspec": {
   "display_name": "Python 3",
   "language": "python",
   "name": "python3"
  },
  "language_info": {
   "codemirror_mode": {
    "name": "ipython",
    "version": 3
   },
   "file_extension": ".py",
   "mimetype": "text/x-python",
   "name": "python",
   "nbconvert_exporter": "python",
   "pygments_lexer": "ipython3",
   "version": "3.7.4"
  }
 },
 "nbformat": 4,
 "nbformat_minor": 2
}
