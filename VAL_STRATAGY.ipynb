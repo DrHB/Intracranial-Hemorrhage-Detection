{
 "cells": [
  {
   "cell_type": "code",
   "execution_count": 40,
   "metadata": {},
   "outputs": [],
   "source": [
    "import pandas as pd\n",
    "import numpy as np\n",
    "from sklearn.model_selection import StratifiedKFold\n",
    "from joblib import load, dump\n",
    "from pathlib2 import Path\n",
    "from pdb import set_trace"
   ]
  },
  {
   "cell_type": "code",
   "execution_count": 59,
   "metadata": {},
   "outputs": [],
   "source": [
    "df = pd.read_csv('train_labels_as_strings.csv')\n",
    "df_pi = pd.read_csv('DATA_with_PATIENT_ID.csv')[['fn', 'PatientID']]\n",
    "df_new = pd.merge(df, df_pi, on='fn')\n",
    "df_new_lb = df_new[['PatientID', 'labels']].copy()"
   ]
  },
  {
   "cell_type": "code",
   "execution_count": 42,
   "metadata": {},
   "outputs": [
    {
     "data": {
      "text/html": [
       "<div>\n",
       "<style scoped>\n",
       "    .dataframe tbody tr th:only-of-type {\n",
       "        vertical-align: middle;\n",
       "    }\n",
       "\n",
       "    .dataframe tbody tr th {\n",
       "        vertical-align: top;\n",
       "    }\n",
       "\n",
       "    .dataframe thead th {\n",
       "        text-align: right;\n",
       "    }\n",
       "</style>\n",
       "<table border=\"1\" class=\"dataframe\">\n",
       "  <thead>\n",
       "    <tr style=\"text-align: right;\">\n",
       "      <th></th>\n",
       "      <th>PatientID</th>\n",
       "      <th>labels</th>\n",
       "    </tr>\n",
       "  </thead>\n",
       "  <tbody>\n",
       "    <tr>\n",
       "      <td>0</td>\n",
       "      <td>ID_a449357f</td>\n",
       "      <td>NaN</td>\n",
       "    </tr>\n",
       "    <tr>\n",
       "      <td>1</td>\n",
       "      <td>ID_363d5865</td>\n",
       "      <td>NaN</td>\n",
       "    </tr>\n",
       "    <tr>\n",
       "      <td>2</td>\n",
       "      <td>ID_9c2b4bd7</td>\n",
       "      <td>NaN</td>\n",
       "    </tr>\n",
       "    <tr>\n",
       "      <td>3</td>\n",
       "      <td>ID_3ae81c2d</td>\n",
       "      <td>NaN</td>\n",
       "    </tr>\n",
       "    <tr>\n",
       "      <td>4</td>\n",
       "      <td>ID_c1867feb</td>\n",
       "      <td>NaN</td>\n",
       "    </tr>\n",
       "    <tr>\n",
       "      <td>...</td>\n",
       "      <td>...</td>\n",
       "      <td>...</td>\n",
       "    </tr>\n",
       "    <tr>\n",
       "      <td>674252</td>\n",
       "      <td>ID_cd9b1eb3</td>\n",
       "      <td>NaN</td>\n",
       "    </tr>\n",
       "    <tr>\n",
       "      <td>674253</td>\n",
       "      <td>ID_39702b69</td>\n",
       "      <td>NaN</td>\n",
       "    </tr>\n",
       "    <tr>\n",
       "      <td>674254</td>\n",
       "      <td>ID_c9eb1b4d</td>\n",
       "      <td>NaN</td>\n",
       "    </tr>\n",
       "    <tr>\n",
       "      <td>674255</td>\n",
       "      <td>ID_141ef473</td>\n",
       "      <td>NaN</td>\n",
       "    </tr>\n",
       "    <tr>\n",
       "      <td>674256</td>\n",
       "      <td>ID_7fa2490c</td>\n",
       "      <td>intraparenchymal subarachnoid subdural any</td>\n",
       "    </tr>\n",
       "  </tbody>\n",
       "</table>\n",
       "<p>674257 rows × 2 columns</p>\n",
       "</div>"
      ],
      "text/plain": [
       "          PatientID                                      labels\n",
       "0       ID_a449357f                                         NaN\n",
       "1       ID_363d5865                                         NaN\n",
       "2       ID_9c2b4bd7                                         NaN\n",
       "3       ID_3ae81c2d                                         NaN\n",
       "4       ID_c1867feb                                         NaN\n",
       "...             ...                                         ...\n",
       "674252  ID_cd9b1eb3                                         NaN\n",
       "674253  ID_39702b69                                         NaN\n",
       "674254  ID_c9eb1b4d                                         NaN\n",
       "674255  ID_141ef473                                         NaN\n",
       "674256  ID_7fa2490c  intraparenchymal subarachnoid subdural any\n",
       "\n",
       "[674257 rows x 2 columns]"
      ]
     },
     "execution_count": 42,
     "metadata": {},
     "output_type": "execute_result"
    }
   ],
   "source": [
    "df_new_lb"
   ]
  },
  {
   "cell_type": "code",
   "execution_count": 43,
   "metadata": {},
   "outputs": [
    {
     "data": {
      "text/plain": [
       "subdural any                                                            28909\n",
       "subarachnoid any                                                        14717\n",
       "intraparenchymal any                                                    13932\n",
       "intraventricular any                                                     8914\n",
       "intraparenchymal intraventricular any                                    6330\n",
       "subarachnoid subdural any                                                4654\n",
       "intraparenchymal subarachnoid any                                        3611\n",
       "intraventricular subarachnoid any                                        3226\n",
       "intraparenchymal subdural any                                            2952\n",
       "intraparenchymal subarachnoid subdural any                               2017\n",
       "intraparenchymal intraventricular subarachnoid any                       1761\n",
       "epidural any                                                             1497\n",
       "intraventricular subdural any                                            1021\n",
       "intraventricular subarachnoid subdural any                                893\n",
       "intraparenchymal intraventricular subarachnoid subdural any               759\n",
       "intraparenchymal intraventricular subdural any                            646\n",
       "epidural subdural any                                                     341\n",
       "epidural intraparenchymal any                                             233\n",
       "epidural subarachnoid any                                                 180\n",
       "epidural subarachnoid subdural any                                         91\n",
       "epidural intraparenchymal subdural any                                     86\n",
       "epidural intraparenchymal subarachnoid any                                 75\n",
       "epidural intraparenchymal intraventricular any                             45\n",
       "epidural intraparenchymal subarachnoid subdural any                        42\n",
       "epidural intraventricular any                                              39\n",
       "epidural intraparenchymal intraventricular subarachnoid any                36\n",
       "epidural intraventricular subarachnoid subdural any                        29\n",
       "epidural intraparenchymal intraventricular subarachnoid subdural any       20\n",
       "epidural intraparenchymal intraventricular subdural any                    19\n",
       "epidural intraventricular subdural any                                     17\n",
       "epidural intraventricular subarachnoid any                                 11\n",
       "Name: labels, dtype: int64"
      ]
     },
     "execution_count": 43,
     "metadata": {},
     "output_type": "execute_result"
    }
   ],
   "source": [
    "df_new_lb['labels'].value_counts()"
   ]
  },
  {
   "cell_type": "code",
   "execution_count": 44,
   "metadata": {},
   "outputs": [
    {
     "data": {
      "text/plain": [
       "31"
      ]
     },
     "execution_count": 44,
     "metadata": {},
     "output_type": "execute_result"
    }
   ],
   "source": [
    "df_new_lb['labels'].value_counts().size"
   ]
  },
  {
   "cell_type": "code",
   "execution_count": 5,
   "metadata": {},
   "outputs": [
    {
     "data": {
      "text/plain": [
       "{'epidural intraventricular subarachnoid any': 0,\n",
       " 'epidural intraventricular subdural any': 1,\n",
       " 'epidural intraparenchymal intraventricular subdural any': 2,\n",
       " 'epidural intraparenchymal intraventricular subarachnoid subdural any': 3,\n",
       " 'epidural intraventricular subarachnoid subdural any': 4,\n",
       " 'epidural intraparenchymal intraventricular subarachnoid any': 5,\n",
       " 'epidural intraventricular any': 6,\n",
       " 'epidural intraparenchymal subarachnoid subdural any': 7,\n",
       " 'epidural intraparenchymal intraventricular any': 8,\n",
       " 'epidural intraparenchymal subarachnoid any': 9,\n",
       " 'epidural intraparenchymal subdural any': 10,\n",
       " 'epidural subarachnoid subdural any': 11,\n",
       " 'epidural subarachnoid any': 12,\n",
       " 'epidural intraparenchymal any': 13,\n",
       " 'epidural subdural any': 14,\n",
       " 'intraparenchymal intraventricular subdural any': 15,\n",
       " 'intraparenchymal intraventricular subarachnoid subdural any': 16,\n",
       " 'intraventricular subarachnoid subdural any': 17,\n",
       " 'intraventricular subdural any': 18,\n",
       " 'epidural any': 19,\n",
       " 'intraparenchymal intraventricular subarachnoid any': 20,\n",
       " 'intraparenchymal subarachnoid subdural any': 21,\n",
       " 'intraparenchymal subdural any': 22,\n",
       " 'intraventricular subarachnoid any': 23,\n",
       " 'intraparenchymal subarachnoid any': 24,\n",
       " 'subarachnoid subdural any': 25,\n",
       " 'intraparenchymal intraventricular any': 26,\n",
       " 'intraventricular any': 27,\n",
       " 'intraparenchymal any': 28,\n",
       " 'subarachnoid any': 29,\n",
       " 'subdural any': 30}"
      ]
     },
     "execution_count": 5,
     "metadata": {},
     "output_type": "execute_result"
    }
   ],
   "source": [
    "labels = list(df_new_lb['labels'].value_counts().index)[::-1]\n",
    "label_dict = {k: i for i, k in enumerate(labels)}\n",
    "label_dict"
   ]
  },
  {
   "cell_type": "code",
   "execution_count": 6,
   "metadata": {},
   "outputs": [
    {
     "data": {
      "text/plain": [
       "'epidural intraventricular subarachnoid any'"
      ]
     },
     "execution_count": 6,
     "metadata": {},
     "output_type": "execute_result"
    }
   ],
   "source": [
    "lbl = df_new_lb['labels'].value_counts().index[-1]; lbl"
   ]
  },
  {
   "cell_type": "code",
   "execution_count": 7,
   "metadata": {},
   "outputs": [
    {
     "data": {
      "text/plain": [
       "'ID_c9942a18'"
      ]
     },
     "execution_count": 7,
     "metadata": {},
     "output_type": "execute_result"
    }
   ],
   "source": [
    "lbl_id = df_new_lb[df_new_lb['labels'] == lbl]['PatientID'].iloc[0]; lbl_id"
   ]
  },
  {
   "cell_type": "code",
   "execution_count": 8,
   "metadata": {},
   "outputs": [
    {
     "data": {
      "text/html": [
       "<div>\n",
       "<style scoped>\n",
       "    .dataframe tbody tr th:only-of-type {\n",
       "        vertical-align: middle;\n",
       "    }\n",
       "\n",
       "    .dataframe tbody tr th {\n",
       "        vertical-align: top;\n",
       "    }\n",
       "\n",
       "    .dataframe thead th {\n",
       "        text-align: right;\n",
       "    }\n",
       "</style>\n",
       "<table border=\"1\" class=\"dataframe\">\n",
       "  <thead>\n",
       "    <tr style=\"text-align: right;\">\n",
       "      <th></th>\n",
       "      <th>PatientID</th>\n",
       "      <th>labels</th>\n",
       "    </tr>\n",
       "  </thead>\n",
       "  <tbody>\n",
       "    <tr>\n",
       "      <td>7673</td>\n",
       "      <td>ID_c9942a18</td>\n",
       "      <td>NaN</td>\n",
       "    </tr>\n",
       "    <tr>\n",
       "      <td>28748</td>\n",
       "      <td>ID_c9942a18</td>\n",
       "      <td>epidural subarachnoid any</td>\n",
       "    </tr>\n",
       "    <tr>\n",
       "      <td>67901</td>\n",
       "      <td>ID_c9942a18</td>\n",
       "      <td>NaN</td>\n",
       "    </tr>\n",
       "    <tr>\n",
       "      <td>95911</td>\n",
       "      <td>ID_c9942a18</td>\n",
       "      <td>epidural intraventricular subarachnoid any</td>\n",
       "    </tr>\n",
       "    <tr>\n",
       "      <td>106783</td>\n",
       "      <td>ID_c9942a18</td>\n",
       "      <td>NaN</td>\n",
       "    </tr>\n",
       "    <tr>\n",
       "      <td>112462</td>\n",
       "      <td>ID_c9942a18</td>\n",
       "      <td>NaN</td>\n",
       "    </tr>\n",
       "    <tr>\n",
       "      <td>148412</td>\n",
       "      <td>ID_c9942a18</td>\n",
       "      <td>epidural intraventricular subarachnoid any</td>\n",
       "    </tr>\n",
       "    <tr>\n",
       "      <td>156365</td>\n",
       "      <td>ID_c9942a18</td>\n",
       "      <td>epidural intraventricular subarachnoid any</td>\n",
       "    </tr>\n",
       "    <tr>\n",
       "      <td>177443</td>\n",
       "      <td>ID_c9942a18</td>\n",
       "      <td>NaN</td>\n",
       "    </tr>\n",
       "    <tr>\n",
       "      <td>220859</td>\n",
       "      <td>ID_c9942a18</td>\n",
       "      <td>intraventricular any</td>\n",
       "    </tr>\n",
       "    <tr>\n",
       "      <td>237922</td>\n",
       "      <td>ID_c9942a18</td>\n",
       "      <td>NaN</td>\n",
       "    </tr>\n",
       "    <tr>\n",
       "      <td>297770</td>\n",
       "      <td>ID_c9942a18</td>\n",
       "      <td>NaN</td>\n",
       "    </tr>\n",
       "    <tr>\n",
       "      <td>300538</td>\n",
       "      <td>ID_c9942a18</td>\n",
       "      <td>NaN</td>\n",
       "    </tr>\n",
       "    <tr>\n",
       "      <td>316579</td>\n",
       "      <td>ID_c9942a18</td>\n",
       "      <td>NaN</td>\n",
       "    </tr>\n",
       "    <tr>\n",
       "      <td>338350</td>\n",
       "      <td>ID_c9942a18</td>\n",
       "      <td>NaN</td>\n",
       "    </tr>\n",
       "    <tr>\n",
       "      <td>353276</td>\n",
       "      <td>ID_c9942a18</td>\n",
       "      <td>NaN</td>\n",
       "    </tr>\n",
       "    <tr>\n",
       "      <td>381936</td>\n",
       "      <td>ID_c9942a18</td>\n",
       "      <td>NaN</td>\n",
       "    </tr>\n",
       "    <tr>\n",
       "      <td>394253</td>\n",
       "      <td>ID_c9942a18</td>\n",
       "      <td>NaN</td>\n",
       "    </tr>\n",
       "    <tr>\n",
       "      <td>404330</td>\n",
       "      <td>ID_c9942a18</td>\n",
       "      <td>NaN</td>\n",
       "    </tr>\n",
       "    <tr>\n",
       "      <td>405053</td>\n",
       "      <td>ID_c9942a18</td>\n",
       "      <td>NaN</td>\n",
       "    </tr>\n",
       "    <tr>\n",
       "      <td>411388</td>\n",
       "      <td>ID_c9942a18</td>\n",
       "      <td>NaN</td>\n",
       "    </tr>\n",
       "    <tr>\n",
       "      <td>419167</td>\n",
       "      <td>ID_c9942a18</td>\n",
       "      <td>NaN</td>\n",
       "    </tr>\n",
       "    <tr>\n",
       "      <td>484805</td>\n",
       "      <td>ID_c9942a18</td>\n",
       "      <td>NaN</td>\n",
       "    </tr>\n",
       "    <tr>\n",
       "      <td>495083</td>\n",
       "      <td>ID_c9942a18</td>\n",
       "      <td>NaN</td>\n",
       "    </tr>\n",
       "    <tr>\n",
       "      <td>578326</td>\n",
       "      <td>ID_c9942a18</td>\n",
       "      <td>NaN</td>\n",
       "    </tr>\n",
       "    <tr>\n",
       "      <td>579893</td>\n",
       "      <td>ID_c9942a18</td>\n",
       "      <td>NaN</td>\n",
       "    </tr>\n",
       "    <tr>\n",
       "      <td>602091</td>\n",
       "      <td>ID_c9942a18</td>\n",
       "      <td>NaN</td>\n",
       "    </tr>\n",
       "    <tr>\n",
       "      <td>605059</td>\n",
       "      <td>ID_c9942a18</td>\n",
       "      <td>epidural intraventricular subarachnoid any</td>\n",
       "    </tr>\n",
       "    <tr>\n",
       "      <td>614150</td>\n",
       "      <td>ID_c9942a18</td>\n",
       "      <td>NaN</td>\n",
       "    </tr>\n",
       "    <tr>\n",
       "      <td>614682</td>\n",
       "      <td>ID_c9942a18</td>\n",
       "      <td>NaN</td>\n",
       "    </tr>\n",
       "    <tr>\n",
       "      <td>634166</td>\n",
       "      <td>ID_c9942a18</td>\n",
       "      <td>NaN</td>\n",
       "    </tr>\n",
       "    <tr>\n",
       "      <td>663641</td>\n",
       "      <td>ID_c9942a18</td>\n",
       "      <td>NaN</td>\n",
       "    </tr>\n",
       "  </tbody>\n",
       "</table>\n",
       "</div>"
      ],
      "text/plain": [
       "          PatientID                                      labels\n",
       "7673    ID_c9942a18                                         NaN\n",
       "28748   ID_c9942a18                   epidural subarachnoid any\n",
       "67901   ID_c9942a18                                         NaN\n",
       "95911   ID_c9942a18  epidural intraventricular subarachnoid any\n",
       "106783  ID_c9942a18                                         NaN\n",
       "112462  ID_c9942a18                                         NaN\n",
       "148412  ID_c9942a18  epidural intraventricular subarachnoid any\n",
       "156365  ID_c9942a18  epidural intraventricular subarachnoid any\n",
       "177443  ID_c9942a18                                         NaN\n",
       "220859  ID_c9942a18                        intraventricular any\n",
       "237922  ID_c9942a18                                         NaN\n",
       "297770  ID_c9942a18                                         NaN\n",
       "300538  ID_c9942a18                                         NaN\n",
       "316579  ID_c9942a18                                         NaN\n",
       "338350  ID_c9942a18                                         NaN\n",
       "353276  ID_c9942a18                                         NaN\n",
       "381936  ID_c9942a18                                         NaN\n",
       "394253  ID_c9942a18                                         NaN\n",
       "404330  ID_c9942a18                                         NaN\n",
       "405053  ID_c9942a18                                         NaN\n",
       "411388  ID_c9942a18                                         NaN\n",
       "419167  ID_c9942a18                                         NaN\n",
       "484805  ID_c9942a18                                         NaN\n",
       "495083  ID_c9942a18                                         NaN\n",
       "578326  ID_c9942a18                                         NaN\n",
       "579893  ID_c9942a18                                         NaN\n",
       "602091  ID_c9942a18                                         NaN\n",
       "605059  ID_c9942a18  epidural intraventricular subarachnoid any\n",
       "614150  ID_c9942a18                                         NaN\n",
       "614682  ID_c9942a18                                         NaN\n",
       "634166  ID_c9942a18                                         NaN\n",
       "663641  ID_c9942a18                                         NaN"
      ]
     },
     "execution_count": 8,
     "metadata": {},
     "output_type": "execute_result"
    }
   ],
   "source": [
    "df_new_lb[df_new_lb['PatientID'] ==lbl_id]"
   ]
  },
  {
   "cell_type": "code",
   "execution_count": 9,
   "metadata": {},
   "outputs": [],
   "source": [
    "df_group = pd.DataFrame(df_new_lb.dropna().groupby('PatientID')['labels'].apply(lambda x: list(x.unique())))"
   ]
  },
  {
   "cell_type": "code",
   "execution_count": 10,
   "metadata": {},
   "outputs": [
    {
     "data": {
      "text/plain": [
       "PatientID\n",
       "ID_8fd2b487    [epidural subarachnoid any, epidural any, epid...\n",
       "ID_b4f7750e    [subarachnoid any, intraparenchymal any, intra...\n",
       "ID_c9942a18    [epidural subarachnoid any, epidural intravent...\n",
       "Name: labels, dtype: object"
      ]
     },
     "execution_count": 10,
     "metadata": {},
     "output_type": "execute_result"
    }
   ],
   "source": [
    "df_group['labels'][df_group['labels'].apply(lambda x: lbl in x)]"
   ]
  },
  {
   "cell_type": "code",
   "execution_count": 11,
   "metadata": {},
   "outputs": [
    {
     "data": {
      "text/plain": [
       "Index(['ID_8fd2b487', 'ID_b4f7750e', 'ID_c9942a18'], dtype='object', name='PatientID')"
      ]
     },
     "execution_count": 11,
     "metadata": {},
     "output_type": "execute_result"
    }
   ],
   "source": [
    "df_group['labels'][df_group['labels'].apply(lambda x: lbl in x)].index.sort_values() "
   ]
  },
  {
   "cell_type": "code",
   "execution_count": 12,
   "metadata": {},
   "outputs": [
    {
     "data": {
      "text/plain": [
       "array(['ID_8fd2b487', 'ID_b4f7750e', 'ID_c9942a18'], dtype=object)"
      ]
     },
     "execution_count": 12,
     "metadata": {},
     "output_type": "execute_result"
    }
   ],
   "source": [
    "df_new_lb[df_new_lb['labels'] == lbl]['PatientID'].sort_values().unique()"
   ]
  },
  {
   "cell_type": "code",
   "execution_count": 16,
   "metadata": {},
   "outputs": [],
   "source": [
    "df_temp = df_group.copy()"
   ]
  },
  {
   "cell_type": "code",
   "execution_count": 17,
   "metadata": {},
   "outputs": [
    {
     "data": {
      "text/plain": [
       "PatientID\n",
       "ID_8fd2b487    [epidural subarachnoid any, epidural any, epid...\n",
       "ID_b4f7750e    [subarachnoid any, intraparenchymal any, intra...\n",
       "ID_c9942a18    [epidural subarachnoid any, epidural intravent...\n",
       "Name: labels, dtype: object"
      ]
     },
     "execution_count": 17,
     "metadata": {},
     "output_type": "execute_result"
    }
   ],
   "source": [
    "df_temp['labels'][df_temp['labels'].apply(lambda x: lbl in x)]"
   ]
  },
  {
   "cell_type": "code",
   "execution_count": 18,
   "metadata": {},
   "outputs": [],
   "source": [
    "ar_ids = df_temp['labels'][df_temp['labels'].apply(lambda x: lbl in x)].index.to_numpy()\n",
    "split_num = max(int(ar_ids.size *0.1), 1)\n",
    "val_usr_ids =   list(np.random.choice(ar_ids, split_num, replace=False))"
   ]
  },
  {
   "cell_type": "code",
   "execution_count": 19,
   "metadata": {},
   "outputs": [
    {
     "data": {
      "text/plain": [
       "array(['ID_8fd2b487', 'ID_b4f7750e', 'ID_c9942a18'], dtype=object)"
      ]
     },
     "execution_count": 19,
     "metadata": {},
     "output_type": "execute_result"
    }
   ],
   "source": [
    "ar_ids"
   ]
  },
  {
   "cell_type": "code",
   "execution_count": 20,
   "metadata": {},
   "outputs": [
    {
     "data": {
      "text/plain": [
       "1"
      ]
     },
     "execution_count": 20,
     "metadata": {},
     "output_type": "execute_result"
    }
   ],
   "source": [
    "split_num"
   ]
  },
  {
   "cell_type": "code",
   "execution_count": 21,
   "metadata": {},
   "outputs": [
    {
     "data": {
      "text/plain": [
       "['ID_b4f7750e']"
      ]
     },
     "execution_count": 21,
     "metadata": {},
     "output_type": "execute_result"
    }
   ],
   "source": [
    "val_usr_ids"
   ]
  },
  {
   "cell_type": "code",
   "execution_count": 22,
   "metadata": {},
   "outputs": [
    {
     "data": {
      "text/html": [
       "<div>\n",
       "<style scoped>\n",
       "    .dataframe tbody tr th:only-of-type {\n",
       "        vertical-align: middle;\n",
       "    }\n",
       "\n",
       "    .dataframe tbody tr th {\n",
       "        vertical-align: top;\n",
       "    }\n",
       "\n",
       "    .dataframe thead th {\n",
       "        text-align: right;\n",
       "    }\n",
       "</style>\n",
       "<table border=\"1\" class=\"dataframe\">\n",
       "  <thead>\n",
       "    <tr style=\"text-align: right;\">\n",
       "      <th></th>\n",
       "      <th>labels</th>\n",
       "      <th>class_id</th>\n",
       "    </tr>\n",
       "    <tr>\n",
       "      <th>PatientID</th>\n",
       "      <th></th>\n",
       "      <th></th>\n",
       "    </tr>\n",
       "  </thead>\n",
       "  <tbody>\n",
       "    <tr>\n",
       "      <td>ID_0027f0b7</td>\n",
       "      <td>[subarachnoid any]</td>\n",
       "      <td>0</td>\n",
       "    </tr>\n",
       "    <tr>\n",
       "      <td>ID_00307f7a</td>\n",
       "      <td>[subarachnoid any, epidural any, epidural suba...</td>\n",
       "      <td>0</td>\n",
       "    </tr>\n",
       "    <tr>\n",
       "      <td>ID_0032e9ab</td>\n",
       "      <td>[intraparenchymal intraventricular any, intrav...</td>\n",
       "      <td>0</td>\n",
       "    </tr>\n",
       "    <tr>\n",
       "      <td>ID_004ebc9b</td>\n",
       "      <td>[subdural any]</td>\n",
       "      <td>0</td>\n",
       "    </tr>\n",
       "    <tr>\n",
       "      <td>ID_00526c11</td>\n",
       "      <td>[subdural any, subarachnoid any, intraparenchy...</td>\n",
       "      <td>0</td>\n",
       "    </tr>\n",
       "    <tr>\n",
       "      <td>...</td>\n",
       "      <td>...</td>\n",
       "      <td>...</td>\n",
       "    </tr>\n",
       "    <tr>\n",
       "      <td>ID_ffd91f66</td>\n",
       "      <td>[intraparenchymal intraventricular any, intrap...</td>\n",
       "      <td>0</td>\n",
       "    </tr>\n",
       "    <tr>\n",
       "      <td>ID_ffe27487</td>\n",
       "      <td>[subdural any, epidural any, epidural subdural...</td>\n",
       "      <td>0</td>\n",
       "    </tr>\n",
       "    <tr>\n",
       "      <td>ID_ffe3608c</td>\n",
       "      <td>[subdural any]</td>\n",
       "      <td>0</td>\n",
       "    </tr>\n",
       "    <tr>\n",
       "      <td>ID_fff140ff</td>\n",
       "      <td>[intraventricular any, subarachnoid any]</td>\n",
       "      <td>0</td>\n",
       "    </tr>\n",
       "    <tr>\n",
       "      <td>ID_fff502d5</td>\n",
       "      <td>[intraparenchymal intraventricular any, intrav...</td>\n",
       "      <td>0</td>\n",
       "    </tr>\n",
       "  </tbody>\n",
       "</table>\n",
       "<p>6977 rows × 2 columns</p>\n",
       "</div>"
      ],
      "text/plain": [
       "                                                        labels  class_id\n",
       "PatientID                                                               \n",
       "ID_0027f0b7                                 [subarachnoid any]         0\n",
       "ID_00307f7a  [subarachnoid any, epidural any, epidural suba...         0\n",
       "ID_0032e9ab  [intraparenchymal intraventricular any, intrav...         0\n",
       "ID_004ebc9b                                     [subdural any]         0\n",
       "ID_00526c11  [subdural any, subarachnoid any, intraparenchy...         0\n",
       "...                                                        ...       ...\n",
       "ID_ffd91f66  [intraparenchymal intraventricular any, intrap...         0\n",
       "ID_ffe27487  [subdural any, epidural any, epidural subdural...         0\n",
       "ID_ffe3608c                                     [subdural any]         0\n",
       "ID_fff140ff           [intraventricular any, subarachnoid any]         0\n",
       "ID_fff502d5  [intraparenchymal intraventricular any, intrav...         0\n",
       "\n",
       "[6977 rows x 2 columns]"
      ]
     },
     "execution_count": 22,
     "metadata": {},
     "output_type": "execute_result"
    }
   ],
   "source": [
    "df_temp.drop(ar_ids)"
   ]
  },
  {
   "cell_type": "code",
   "execution_count": 23,
   "metadata": {},
   "outputs": [],
   "source": [
    "def get_val_labels(df, labels_list):\n",
    "    val_indx = []\n",
    "    df_temp = df.copy()\n",
    "    for lbl in labels_list:\n",
    "        ar_ids = df_temp['labels'][df_temp['labels'].apply(lambda x: lbl in x)].index.to_numpy()\n",
    "        split_num = max(int(ar_ids.size *0.15), 1)\n",
    "        val_usr_ids =   list(np.random.choice(ar_ids, split_num, replace=False))\n",
    "        val_indx.append(val_usr_ids)\n",
    "        df_temp.drop(ar_ids, inplace=True)\n",
    "        \n",
    "    return val_indx"
   ]
  },
  {
   "cell_type": "code",
   "execution_count": 24,
   "metadata": {},
   "outputs": [],
   "source": [
    "vi = np.concatenate(get_val_labels(df_temp, labels))"
   ]
  },
  {
   "cell_type": "code",
   "execution_count": 25,
   "metadata": {
    "scrolled": false
   },
   "outputs": [
    {
     "data": {
      "text/plain": [
       "1038"
      ]
     },
     "execution_count": 25,
     "metadata": {},
     "output_type": "execute_result"
    }
   ],
   "source": [
    "vi.size"
   ]
  },
  {
   "cell_type": "code",
   "execution_count": 26,
   "metadata": {},
   "outputs": [
    {
     "data": {
      "text/plain": [
       "1038"
      ]
     },
     "execution_count": 26,
     "metadata": {},
     "output_type": "execute_result"
    }
   ],
   "source": [
    "np.unique(vi).size"
   ]
  },
  {
   "cell_type": "code",
   "execution_count": 48,
   "metadata": {},
   "outputs": [],
   "source": [
    "df_new_lb.set_index('PatientID', inplace=True)"
   ]
  },
  {
   "cell_type": "code",
   "execution_count": 28,
   "metadata": {},
   "outputs": [
    {
     "data": {
      "text/plain": [
       "subdural any                                                            4334\n",
       "subarachnoid any                                                        2234\n",
       "intraparenchymal any                                                    2002\n",
       "intraventricular any                                                    1434\n",
       "intraparenchymal intraventricular any                                    964\n",
       "subarachnoid subdural any                                                680\n",
       "intraventricular subarachnoid any                                        544\n",
       "intraparenchymal subarachnoid any                                        494\n",
       "intraparenchymal subdural any                                            394\n",
       "intraparenchymal subarachnoid subdural any                               315\n",
       "intraparenchymal intraventricular subarachnoid any                       279\n",
       "epidural any                                                             224\n",
       "intraventricular subdural any                                            164\n",
       "intraventricular subarachnoid subdural any                               129\n",
       "intraparenchymal intraventricular subdural any                           101\n",
       "intraparenchymal intraventricular subarachnoid subdural any               95\n",
       "epidural subdural any                                                     60\n",
       "epidural intraparenchymal any                                             30\n",
       "epidural intraparenchymal subarachnoid any                                27\n",
       "epidural subarachnoid any                                                 27\n",
       "epidural subarachnoid subdural any                                        14\n",
       "epidural intraparenchymal subdural any                                    10\n",
       "epidural intraparenchymal intraventricular subarachnoid subdural any       9\n",
       "epidural intraparenchymal subarachnoid subdural any                        9\n",
       "epidural intraparenchymal intraventricular any                             6\n",
       "epidural intraventricular subarachnoid subdural any                        6\n",
       "epidural intraparenchymal intraventricular subarachnoid any                4\n",
       "epidural intraparenchymal intraventricular subdural any                    3\n",
       "epidural intraventricular subdural any                                     2\n",
       "epidural intraventricular any                                              1\n",
       "epidural intraventricular subarachnoid any                                 1\n",
       "Name: labels, dtype: int64"
      ]
     },
     "execution_count": 28,
     "metadata": {},
     "output_type": "execute_result"
    }
   ],
   "source": [
    "df_new_lb.loc[vi]['labels'].value_counts()"
   ]
  },
  {
   "cell_type": "code",
   "execution_count": 29,
   "metadata": {},
   "outputs": [],
   "source": [
    "df_group_nas = pd.DataFrame(df_new_lb.groupby('PatientID')['labels'].apply(lambda x: list(x.unique())))"
   ]
  },
  {
   "cell_type": "code",
   "execution_count": 31,
   "metadata": {},
   "outputs": [],
   "source": [
    "list_of_any = df_group_nas['labels'][df_group_nas['labels'].apply(lambda x: len(x)==1 and np.nan in x)][:1500].index"
   ]
  },
  {
   "cell_type": "code",
   "execution_count": 33,
   "metadata": {},
   "outputs": [],
   "source": [
    "final_val_indx = np.concatenate([vi, list_of_any])"
   ]
  },
  {
   "cell_type": "code",
   "execution_count": 35,
   "metadata": {},
   "outputs": [
    {
     "data": {
      "text/plain": [
       "2538"
      ]
     },
     "execution_count": 35,
     "metadata": {},
     "output_type": "execute_result"
    }
   ],
   "source": [
    "len(final_val_indx)"
   ]
  },
  {
   "cell_type": "code",
   "execution_count": 37,
   "metadata": {},
   "outputs": [
    {
     "data": {
      "text/plain": [
       "2538"
      ]
     },
     "execution_count": 37,
     "metadata": {},
     "output_type": "execute_result"
    }
   ],
   "source": [
    "len(set(final_val_indx))"
   ]
  },
  {
   "cell_type": "code",
   "execution_count": 39,
   "metadata": {},
   "outputs": [
    {
     "data": {
      "text/plain": [
       "True"
      ]
     },
     "execution_count": 39,
     "metadata": {},
     "output_type": "execute_result"
    }
   ],
   "source": [
    "df_new_lb.loc[final_val_indx]['labels'].value_counts().size == 31"
   ]
  },
  {
   "cell_type": "code",
   "execution_count": 49,
   "metadata": {},
   "outputs": [
    {
     "data": {
      "text/html": [
       "<div>\n",
       "<style scoped>\n",
       "    .dataframe tbody tr th:only-of-type {\n",
       "        vertical-align: middle;\n",
       "    }\n",
       "\n",
       "    .dataframe tbody tr th {\n",
       "        vertical-align: top;\n",
       "    }\n",
       "\n",
       "    .dataframe thead th {\n",
       "        text-align: right;\n",
       "    }\n",
       "</style>\n",
       "<table border=\"1\" class=\"dataframe\">\n",
       "  <thead>\n",
       "    <tr style=\"text-align: right;\">\n",
       "      <th></th>\n",
       "      <th>labels</th>\n",
       "    </tr>\n",
       "    <tr>\n",
       "      <th>PatientID</th>\n",
       "      <th></th>\n",
       "    </tr>\n",
       "  </thead>\n",
       "  <tbody>\n",
       "    <tr>\n",
       "      <td>ID_8fd2b487</td>\n",
       "      <td>NaN</td>\n",
       "    </tr>\n",
       "    <tr>\n",
       "      <td>ID_8fd2b487</td>\n",
       "      <td>NaN</td>\n",
       "    </tr>\n",
       "    <tr>\n",
       "      <td>ID_8fd2b487</td>\n",
       "      <td>NaN</td>\n",
       "    </tr>\n",
       "    <tr>\n",
       "      <td>ID_8fd2b487</td>\n",
       "      <td>NaN</td>\n",
       "    </tr>\n",
       "    <tr>\n",
       "      <td>ID_8fd2b487</td>\n",
       "      <td>epidural subarachnoid any</td>\n",
       "    </tr>\n",
       "    <tr>\n",
       "      <td>...</td>\n",
       "      <td>...</td>\n",
       "    </tr>\n",
       "    <tr>\n",
       "      <td>ID_24e1e06f</td>\n",
       "      <td>NaN</td>\n",
       "    </tr>\n",
       "    <tr>\n",
       "      <td>ID_24e1e06f</td>\n",
       "      <td>NaN</td>\n",
       "    </tr>\n",
       "    <tr>\n",
       "      <td>ID_24e1e06f</td>\n",
       "      <td>NaN</td>\n",
       "    </tr>\n",
       "    <tr>\n",
       "      <td>ID_24e1e06f</td>\n",
       "      <td>NaN</td>\n",
       "    </tr>\n",
       "    <tr>\n",
       "      <td>ID_24e1e06f</td>\n",
       "      <td>NaN</td>\n",
       "    </tr>\n",
       "  </tbody>\n",
       "</table>\n",
       "<p>101071 rows × 1 columns</p>\n",
       "</div>"
      ],
      "text/plain": [
       "                                labels\n",
       "PatientID                             \n",
       "ID_8fd2b487                        NaN\n",
       "ID_8fd2b487                        NaN\n",
       "ID_8fd2b487                        NaN\n",
       "ID_8fd2b487                        NaN\n",
       "ID_8fd2b487  epidural subarachnoid any\n",
       "...                                ...\n",
       "ID_24e1e06f                        NaN\n",
       "ID_24e1e06f                        NaN\n",
       "ID_24e1e06f                        NaN\n",
       "ID_24e1e06f                        NaN\n",
       "ID_24e1e06f                        NaN\n",
       "\n",
       "[101071 rows x 1 columns]"
      ]
     },
     "execution_count": 49,
     "metadata": {},
     "output_type": "execute_result"
    }
   ],
   "source": [
    "df_new_lb.loc[final_val_indx]"
   ]
  },
  {
   "cell_type": "code",
   "execution_count": 61,
   "metadata": {},
   "outputs": [],
   "source": [
    "df_new.reset_index(inplace=True)\n",
    "df_new.set_index('PatientID', inplace=True)"
   ]
  },
  {
   "cell_type": "code",
   "execution_count": 62,
   "metadata": {},
   "outputs": [
    {
     "data": {
      "text/html": [
       "<div>\n",
       "<style scoped>\n",
       "    .dataframe tbody tr th:only-of-type {\n",
       "        vertical-align: middle;\n",
       "    }\n",
       "\n",
       "    .dataframe tbody tr th {\n",
       "        vertical-align: top;\n",
       "    }\n",
       "\n",
       "    .dataframe thead th {\n",
       "        text-align: right;\n",
       "    }\n",
       "</style>\n",
       "<table border=\"1\" class=\"dataframe\">\n",
       "  <thead>\n",
       "    <tr style=\"text-align: right;\">\n",
       "      <th></th>\n",
       "      <th>index</th>\n",
       "      <th>fn</th>\n",
       "      <th>labels</th>\n",
       "    </tr>\n",
       "    <tr>\n",
       "      <th>PatientID</th>\n",
       "      <th></th>\n",
       "      <th></th>\n",
       "      <th></th>\n",
       "    </tr>\n",
       "  </thead>\n",
       "  <tbody>\n",
       "    <tr>\n",
       "      <td>ID_8fd2b487</td>\n",
       "      <td>10842</td>\n",
       "      <td>ID_e2f060c42.png</td>\n",
       "      <td>NaN</td>\n",
       "    </tr>\n",
       "    <tr>\n",
       "      <td>ID_8fd2b487</td>\n",
       "      <td>26058</td>\n",
       "      <td>ID_c9db7caa5.png</td>\n",
       "      <td>NaN</td>\n",
       "    </tr>\n",
       "    <tr>\n",
       "      <td>ID_8fd2b487</td>\n",
       "      <td>54555</td>\n",
       "      <td>ID_d983bd1fc.png</td>\n",
       "      <td>NaN</td>\n",
       "    </tr>\n",
       "    <tr>\n",
       "      <td>ID_8fd2b487</td>\n",
       "      <td>71847</td>\n",
       "      <td>ID_d869d8af7.png</td>\n",
       "      <td>NaN</td>\n",
       "    </tr>\n",
       "    <tr>\n",
       "      <td>ID_8fd2b487</td>\n",
       "      <td>82176</td>\n",
       "      <td>ID_11a5dd378.png</td>\n",
       "      <td>epidural subarachnoid any</td>\n",
       "    </tr>\n",
       "    <tr>\n",
       "      <td>...</td>\n",
       "      <td>...</td>\n",
       "      <td>...</td>\n",
       "      <td>...</td>\n",
       "    </tr>\n",
       "    <tr>\n",
       "      <td>ID_24e1e06f</td>\n",
       "      <td>557455</td>\n",
       "      <td>ID_e6313a792.png</td>\n",
       "      <td>NaN</td>\n",
       "    </tr>\n",
       "    <tr>\n",
       "      <td>ID_24e1e06f</td>\n",
       "      <td>572204</td>\n",
       "      <td>ID_6fef16f36.png</td>\n",
       "      <td>NaN</td>\n",
       "    </tr>\n",
       "    <tr>\n",
       "      <td>ID_24e1e06f</td>\n",
       "      <td>580513</td>\n",
       "      <td>ID_40b6806a5.png</td>\n",
       "      <td>NaN</td>\n",
       "    </tr>\n",
       "    <tr>\n",
       "      <td>ID_24e1e06f</td>\n",
       "      <td>591623</td>\n",
       "      <td>ID_f5af62539.png</td>\n",
       "      <td>NaN</td>\n",
       "    </tr>\n",
       "    <tr>\n",
       "      <td>ID_24e1e06f</td>\n",
       "      <td>665927</td>\n",
       "      <td>ID_c8d7b62c3.png</td>\n",
       "      <td>NaN</td>\n",
       "    </tr>\n",
       "  </tbody>\n",
       "</table>\n",
       "<p>101071 rows × 3 columns</p>\n",
       "</div>"
      ],
      "text/plain": [
       "              index                fn                     labels\n",
       "PatientID                                                       \n",
       "ID_8fd2b487   10842  ID_e2f060c42.png                        NaN\n",
       "ID_8fd2b487   26058  ID_c9db7caa5.png                        NaN\n",
       "ID_8fd2b487   54555  ID_d983bd1fc.png                        NaN\n",
       "ID_8fd2b487   71847  ID_d869d8af7.png                        NaN\n",
       "ID_8fd2b487   82176  ID_11a5dd378.png  epidural subarachnoid any\n",
       "...             ...               ...                        ...\n",
       "ID_24e1e06f  557455  ID_e6313a792.png                        NaN\n",
       "ID_24e1e06f  572204  ID_6fef16f36.png                        NaN\n",
       "ID_24e1e06f  580513  ID_40b6806a5.png                        NaN\n",
       "ID_24e1e06f  591623  ID_f5af62539.png                        NaN\n",
       "ID_24e1e06f  665927  ID_c8d7b62c3.png                        NaN\n",
       "\n",
       "[101071 rows x 3 columns]"
      ]
     },
     "execution_count": 62,
     "metadata": {},
     "output_type": "execute_result"
    }
   ],
   "source": [
    "df_new.loc[final_val_indx]"
   ]
  },
  {
   "cell_type": "code",
   "execution_count": 64,
   "metadata": {},
   "outputs": [
    {
     "data": {
      "text/html": [
       "<div>\n",
       "<style scoped>\n",
       "    .dataframe tbody tr th:only-of-type {\n",
       "        vertical-align: middle;\n",
       "    }\n",
       "\n",
       "    .dataframe tbody tr th {\n",
       "        vertical-align: top;\n",
       "    }\n",
       "\n",
       "    .dataframe thead th {\n",
       "        text-align: right;\n",
       "    }\n",
       "</style>\n",
       "<table border=\"1\" class=\"dataframe\">\n",
       "  <thead>\n",
       "    <tr style=\"text-align: right;\">\n",
       "      <th></th>\n",
       "      <th>index</th>\n",
       "      <th>fn</th>\n",
       "      <th>labels</th>\n",
       "    </tr>\n",
       "    <tr>\n",
       "      <th>PatientID</th>\n",
       "      <th></th>\n",
       "      <th></th>\n",
       "      <th></th>\n",
       "    </tr>\n",
       "  </thead>\n",
       "  <tbody>\n",
       "    <tr>\n",
       "      <td>ID_8fd2b487</td>\n",
       "      <td>10842</td>\n",
       "      <td>ID_e2f060c42.png</td>\n",
       "      <td>NaN</td>\n",
       "    </tr>\n",
       "    <tr>\n",
       "      <td>ID_8fd2b487</td>\n",
       "      <td>26058</td>\n",
       "      <td>ID_c9db7caa5.png</td>\n",
       "      <td>NaN</td>\n",
       "    </tr>\n",
       "    <tr>\n",
       "      <td>ID_8fd2b487</td>\n",
       "      <td>54555</td>\n",
       "      <td>ID_d983bd1fc.png</td>\n",
       "      <td>NaN</td>\n",
       "    </tr>\n",
       "    <tr>\n",
       "      <td>ID_8fd2b487</td>\n",
       "      <td>71847</td>\n",
       "      <td>ID_d869d8af7.png</td>\n",
       "      <td>NaN</td>\n",
       "    </tr>\n",
       "    <tr>\n",
       "      <td>ID_8fd2b487</td>\n",
       "      <td>82176</td>\n",
       "      <td>ID_11a5dd378.png</td>\n",
       "      <td>epidural subarachnoid any</td>\n",
       "    </tr>\n",
       "    <tr>\n",
       "      <td>...</td>\n",
       "      <td>...</td>\n",
       "      <td>...</td>\n",
       "      <td>...</td>\n",
       "    </tr>\n",
       "    <tr>\n",
       "      <td>ID_24e1e06f</td>\n",
       "      <td>557455</td>\n",
       "      <td>ID_e6313a792.png</td>\n",
       "      <td>NaN</td>\n",
       "    </tr>\n",
       "    <tr>\n",
       "      <td>ID_24e1e06f</td>\n",
       "      <td>572204</td>\n",
       "      <td>ID_6fef16f36.png</td>\n",
       "      <td>NaN</td>\n",
       "    </tr>\n",
       "    <tr>\n",
       "      <td>ID_24e1e06f</td>\n",
       "      <td>580513</td>\n",
       "      <td>ID_40b6806a5.png</td>\n",
       "      <td>NaN</td>\n",
       "    </tr>\n",
       "    <tr>\n",
       "      <td>ID_24e1e06f</td>\n",
       "      <td>591623</td>\n",
       "      <td>ID_f5af62539.png</td>\n",
       "      <td>NaN</td>\n",
       "    </tr>\n",
       "    <tr>\n",
       "      <td>ID_24e1e06f</td>\n",
       "      <td>665927</td>\n",
       "      <td>ID_c8d7b62c3.png</td>\n",
       "      <td>NaN</td>\n",
       "    </tr>\n",
       "  </tbody>\n",
       "</table>\n",
       "<p>101071 rows × 3 columns</p>\n",
       "</div>"
      ],
      "text/plain": [
       "              index                fn                     labels\n",
       "PatientID                                                       \n",
       "ID_8fd2b487   10842  ID_e2f060c42.png                        NaN\n",
       "ID_8fd2b487   26058  ID_c9db7caa5.png                        NaN\n",
       "ID_8fd2b487   54555  ID_d983bd1fc.png                        NaN\n",
       "ID_8fd2b487   71847  ID_d869d8af7.png                        NaN\n",
       "ID_8fd2b487   82176  ID_11a5dd378.png  epidural subarachnoid any\n",
       "...             ...               ...                        ...\n",
       "ID_24e1e06f  557455  ID_e6313a792.png                        NaN\n",
       "ID_24e1e06f  572204  ID_6fef16f36.png                        NaN\n",
       "ID_24e1e06f  580513  ID_40b6806a5.png                        NaN\n",
       "ID_24e1e06f  591623  ID_f5af62539.png                        NaN\n",
       "ID_24e1e06f  665927  ID_c8d7b62c3.png                        NaN\n",
       "\n",
       "[101071 rows x 3 columns]"
      ]
     },
     "execution_count": 64,
     "metadata": {},
     "output_type": "execute_result"
    }
   ],
   "source": [
    "df_new.loc[final_val_indx]"
   ]
  },
  {
   "cell_type": "code",
   "execution_count": 69,
   "metadata": {},
   "outputs": [],
   "source": [
    "val_idx = df_new.loc[final_val_indx]['index'].values"
   ]
  },
  {
   "cell_type": "code",
   "execution_count": 70,
   "metadata": {},
   "outputs": [
    {
     "data": {
      "text/plain": [
       "array([ 10842,  26058,  54555, ..., 580513, 591623, 665927])"
      ]
     },
     "execution_count": 70,
     "metadata": {},
     "output_type": "execute_result"
    }
   ],
   "source": [
    "val_idx"
   ]
  },
  {
   "cell_type": "code",
   "execution_count": 82,
   "metadata": {},
   "outputs": [],
   "source": [
    "df_new.drop(final_val_indx, inplace=True)"
   ]
  },
  {
   "cell_type": "code",
   "execution_count": 85,
   "metadata": {},
   "outputs": [],
   "source": [
    "trn_idx = df_new['index'].values"
   ]
  },
  {
   "cell_type": "code",
   "execution_count": 92,
   "metadata": {},
   "outputs": [],
   "source": [
    "joblob_idx = (val_idx, trn_idx)"
   ]
  },
  {
   "cell_type": "code",
   "execution_count": 90,
   "metadata": {},
   "outputs": [
    {
     "data": {
      "text/plain": [
       "True"
      ]
     },
     "execution_count": 90,
     "metadata": {},
     "output_type": "execute_result"
    }
   ],
   "source": [
    "val_idx.size + trn_idx.size == df.shape[0]"
   ]
  },
  {
   "cell_type": "code",
   "execution_count": 93,
   "metadata": {},
   "outputs": [
    {
     "data": {
      "text/html": [
       "<div>\n",
       "<style scoped>\n",
       "    .dataframe tbody tr th:only-of-type {\n",
       "        vertical-align: middle;\n",
       "    }\n",
       "\n",
       "    .dataframe tbody tr th {\n",
       "        vertical-align: top;\n",
       "    }\n",
       "\n",
       "    .dataframe thead th {\n",
       "        text-align: right;\n",
       "    }\n",
       "</style>\n",
       "<table border=\"1\" class=\"dataframe\">\n",
       "  <thead>\n",
       "    <tr style=\"text-align: right;\">\n",
       "      <th></th>\n",
       "      <th>fn</th>\n",
       "      <th>labels</th>\n",
       "    </tr>\n",
       "  </thead>\n",
       "  <tbody>\n",
       "    <tr>\n",
       "      <td>0</td>\n",
       "      <td>ID_63eb1e259.png</td>\n",
       "      <td>NaN</td>\n",
       "    </tr>\n",
       "    <tr>\n",
       "      <td>1</td>\n",
       "      <td>ID_2669954a7.png</td>\n",
       "      <td>NaN</td>\n",
       "    </tr>\n",
       "    <tr>\n",
       "      <td>2</td>\n",
       "      <td>ID_52c9913b1.png</td>\n",
       "      <td>NaN</td>\n",
       "    </tr>\n",
       "    <tr>\n",
       "      <td>3</td>\n",
       "      <td>ID_4e6ff6126.png</td>\n",
       "      <td>NaN</td>\n",
       "    </tr>\n",
       "    <tr>\n",
       "      <td>4</td>\n",
       "      <td>ID_7858edd88.png</td>\n",
       "      <td>NaN</td>\n",
       "    </tr>\n",
       "    <tr>\n",
       "      <td>...</td>\n",
       "      <td>...</td>\n",
       "      <td>...</td>\n",
       "    </tr>\n",
       "    <tr>\n",
       "      <td>674252</td>\n",
       "      <td>ID_f737f4cc1.png</td>\n",
       "      <td>NaN</td>\n",
       "    </tr>\n",
       "    <tr>\n",
       "      <td>674253</td>\n",
       "      <td>ID_4c92d70b5.png</td>\n",
       "      <td>NaN</td>\n",
       "    </tr>\n",
       "    <tr>\n",
       "      <td>674254</td>\n",
       "      <td>ID_a9797cb3a.png</td>\n",
       "      <td>NaN</td>\n",
       "    </tr>\n",
       "    <tr>\n",
       "      <td>674255</td>\n",
       "      <td>ID_9375f67bd.png</td>\n",
       "      <td>NaN</td>\n",
       "    </tr>\n",
       "    <tr>\n",
       "      <td>674256</td>\n",
       "      <td>ID_5c8b5d701.png</td>\n",
       "      <td>intraparenchymal subarachnoid subdural any</td>\n",
       "    </tr>\n",
       "  </tbody>\n",
       "</table>\n",
       "<p>674257 rows × 2 columns</p>\n",
       "</div>"
      ],
      "text/plain": [
       "                      fn                                      labels\n",
       "0       ID_63eb1e259.png                                         NaN\n",
       "1       ID_2669954a7.png                                         NaN\n",
       "2       ID_52c9913b1.png                                         NaN\n",
       "3       ID_4e6ff6126.png                                         NaN\n",
       "4       ID_7858edd88.png                                         NaN\n",
       "...                  ...                                         ...\n",
       "674252  ID_f737f4cc1.png                                         NaN\n",
       "674253  ID_4c92d70b5.png                                         NaN\n",
       "674254  ID_a9797cb3a.png                                         NaN\n",
       "674255  ID_9375f67bd.png                                         NaN\n",
       "674256  ID_5c8b5d701.png  intraparenchymal subarachnoid subdural any\n",
       "\n",
       "[674257 rows x 2 columns]"
      ]
     },
     "execution_count": 93,
     "metadata": {},
     "output_type": "execute_result"
    }
   ],
   "source": [
    "df"
   ]
  },
  {
   "cell_type": "code",
   "execution_count": 95,
   "metadata": {},
   "outputs": [
    {
     "data": {
      "text/plain": [
       "array([ 10842,  26058,  54555, ..., 580513, 591623, 665927])"
      ]
     },
     "execution_count": 95,
     "metadata": {},
     "output_type": "execute_result"
    }
   ],
   "source": [
    "joblob_idx[0]"
   ]
  },
  {
   "cell_type": "code",
   "execution_count": 98,
   "metadata": {},
   "outputs": [
    {
     "data": {
      "text/plain": [
       "subdural any                                                            4334\n",
       "subarachnoid any                                                        2234\n",
       "intraparenchymal any                                                    2002\n",
       "intraventricular any                                                    1434\n",
       "intraparenchymal intraventricular any                                    964\n",
       "subarachnoid subdural any                                                680\n",
       "intraventricular subarachnoid any                                        544\n",
       "intraparenchymal subarachnoid any                                        494\n",
       "intraparenchymal subdural any                                            394\n",
       "intraparenchymal subarachnoid subdural any                               315\n",
       "intraparenchymal intraventricular subarachnoid any                       279\n",
       "epidural any                                                             224\n",
       "intraventricular subdural any                                            164\n",
       "intraventricular subarachnoid subdural any                               129\n",
       "intraparenchymal intraventricular subdural any                           101\n",
       "intraparenchymal intraventricular subarachnoid subdural any               95\n",
       "epidural subdural any                                                     60\n",
       "epidural intraparenchymal any                                             30\n",
       "epidural subarachnoid any                                                 27\n",
       "epidural intraparenchymal subarachnoid any                                27\n",
       "epidural subarachnoid subdural any                                        14\n",
       "epidural intraparenchymal subdural any                                    10\n",
       "epidural intraparenchymal intraventricular subarachnoid subdural any       9\n",
       "epidural intraparenchymal subarachnoid subdural any                        9\n",
       "epidural intraventricular subarachnoid subdural any                        6\n",
       "epidural intraparenchymal intraventricular any                             6\n",
       "epidural intraparenchymal intraventricular subarachnoid any                4\n",
       "epidural intraparenchymal intraventricular subdural any                    3\n",
       "epidural intraventricular subdural any                                     2\n",
       "epidural intraventricular subarachnoid any                                 1\n",
       "epidural intraventricular any                                              1\n",
       "Name: labels, dtype: int64"
      ]
     },
     "execution_count": 98,
     "metadata": {},
     "output_type": "execute_result"
    }
   ],
   "source": [
    "df.iloc[joblob_idx[0]]['labels'].value_counts()"
   ]
  },
  {
   "cell_type": "code",
   "execution_count": 99,
   "metadata": {},
   "outputs": [
    {
     "data": {
      "text/plain": [
       "subdural any                                                            24575\n",
       "subarachnoid any                                                        12483\n",
       "intraparenchymal any                                                    11930\n",
       "intraventricular any                                                     7480\n",
       "intraparenchymal intraventricular any                                    5366\n",
       "subarachnoid subdural any                                                3974\n",
       "intraparenchymal subarachnoid any                                        3117\n",
       "intraventricular subarachnoid any                                        2682\n",
       "intraparenchymal subdural any                                            2558\n",
       "intraparenchymal subarachnoid subdural any                               1702\n",
       "intraparenchymal intraventricular subarachnoid any                       1482\n",
       "epidural any                                                             1273\n",
       "intraventricular subdural any                                             857\n",
       "intraventricular subarachnoid subdural any                                764\n",
       "intraparenchymal intraventricular subarachnoid subdural any               664\n",
       "intraparenchymal intraventricular subdural any                            545\n",
       "epidural subdural any                                                     281\n",
       "epidural intraparenchymal any                                             203\n",
       "epidural subarachnoid any                                                 153\n",
       "epidural subarachnoid subdural any                                         77\n",
       "epidural intraparenchymal subdural any                                     76\n",
       "epidural intraparenchymal subarachnoid any                                 48\n",
       "epidural intraparenchymal intraventricular any                             39\n",
       "epidural intraventricular any                                              38\n",
       "epidural intraparenchymal subarachnoid subdural any                        33\n",
       "epidural intraparenchymal intraventricular subarachnoid any                32\n",
       "epidural intraventricular subarachnoid subdural any                        23\n",
       "epidural intraparenchymal intraventricular subdural any                    16\n",
       "epidural intraventricular subdural any                                     15\n",
       "epidural intraparenchymal intraventricular subarachnoid subdural any       11\n",
       "epidural intraventricular subarachnoid any                                 10\n",
       "Name: labels, dtype: int64"
      ]
     },
     "execution_count": 99,
     "metadata": {},
     "output_type": "execute_result"
    }
   ],
   "source": [
    "df.iloc[joblob_idx[1]]['labels'].value_counts()"
   ]
  },
  {
   "cell_type": "code",
   "execution_count": 100,
   "metadata": {},
   "outputs": [
    {
     "data": {
      "text/plain": [
       "['VAL_by_Patience/val_idx_pi.joblib']"
      ]
     },
     "execution_count": 100,
     "metadata": {},
     "output_type": "execute_result"
    }
   ],
   "source": [
    "dump(joblob_idx, 'VAL_by_Patience/val_idx_pi.joblib')"
   ]
  },
  {
   "cell_type": "code",
   "execution_count": null,
   "metadata": {},
   "outputs": [],
   "source": []
  }
 ],
 "metadata": {
  "kernelspec": {
   "display_name": "Python 3",
   "language": "python",
   "name": "python3"
  },
  "language_info": {
   "codemirror_mode": {
    "name": "ipython",
    "version": 3
   },
   "file_extension": ".py",
   "mimetype": "text/x-python",
   "name": "python",
   "nbconvert_exporter": "python",
   "pygments_lexer": "ipython3",
   "version": "3.7.4"
  }
 },
 "nbformat": 4,
 "nbformat_minor": 2
}
