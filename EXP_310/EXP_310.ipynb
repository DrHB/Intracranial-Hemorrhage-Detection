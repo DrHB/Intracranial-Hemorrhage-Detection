{
 "cells": [
  {
   "cell_type": "code",
   "execution_count": 1,
   "metadata": {},
   "outputs": [],
   "source": [
    "%matplotlib inline  \n",
    "from fastai.vision import *\n",
    "from fastai.data_block import _maybe_squeeze\n",
    "from fastai.callbacks import *\n",
    "from sklearn.model_selection import StratifiedKFold\n",
    "from joblib import load, dump\n",
    "from efficientnet_pytorch import EfficientNet\n",
    "from ranger import *\n"
   ]
  },
  {
   "cell_type": "code",
   "execution_count": 2,
   "metadata": {},
   "outputs": [],
   "source": [
    "def strt_split(x, y, n_folds=10, random_seed = 42, path=Path('')):  \n",
    "    try: \n",
    "        val_name = load('val_idx_10.joblib')\n",
    "    except:\n",
    "        skf = StratifiedKFold(n_splits=n_folds, shuffle=True, random_state=random_seed)\n",
    "        val_name = [(val_idx, trn_idx) for trn_idx, val_idx in skf.split(x, y)]\n",
    "        dump(val_name,'val_idx_10.joblib')\n",
    "    return val_name\n",
    "\n",
    "def modified_label_from_df(self, cols:IntsOrStrs=1, label_cls:Callable=None, **kwargs):\n",
    "    \"Label `self.items` from the values in `cols` in `self.inner_df`.\"\n",
    "    self.inner_df.labels.fillna('', inplace=True)\n",
    "    labels = self.inner_df.iloc[:,df_names_to_idx(cols, self.inner_df)]\n",
    "    assert labels.isna().sum().sum() == 0, f\"You have NaN values in column(s) {cols} of your dataframe, please fix it.\"\n",
    "    if is_listy(cols) and len(cols) > 1 and (label_cls is None or label_cls == MultiCategoryList):\n",
    "        new_kwargs,label_cls = dict(one_hot=True, classes= cols),MultiCategoryList\n",
    "        kwargs = {**new_kwargs, **kwargs}\n",
    "    return self._label_from_list(_maybe_squeeze(labels), label_cls=label_cls, **kwargs)\n",
    "\n",
    "\n",
    "def flattenAnneal(learn:Learner, lr:float, n_epochs:int, start_pct:float, SUFFIX = 'PHASE_1_COS'):\n",
    "    n = len(learn.data.train_dl)\n",
    "    anneal_start = int(n*n_epochs*start_pct)\n",
    "    anneal_end = int(n*n_epochs) - anneal_start\n",
    "    phases = [TrainingPhase(anneal_start).schedule_hp('lr', lr),\n",
    "             TrainingPhase(anneal_end).schedule_hp('lr', lr, anneal=annealing_cos)]\n",
    "    sched = GeneralScheduler(learn, phases)\n",
    "    learn.callbacks.append(sched)\n",
    "    learn.callbacks.append(SaveModelCallback(learn, every='improvement', monitor='valid_loss', name = f'{EXP_NAME}_{SUFFIX}'))\n",
    "    learn.fit(n_epochs)"
   ]
  },
  {
   "cell_type": "code",
   "execution_count": 3,
   "metadata": {},
   "outputs": [],
   "source": [
    "PATH = Path('..')\n",
    "BS =            184\n",
    "SZ =            380\n",
    "FOLD =0\n",
    "EXP_NAME =      f'NB_EXP_310_CV_{FOLD}_{SZ}'\n",
    "IMG_TRAIN_224 = PATH/f'train_images_3chn_bg_{SZ}'\n",
    "IMG_TEST_224  = PATH/f'test_images_3chn_bg_{SZ}'\n",
    "DF_TRAIN =      pd.read_csv(PATH/'train_labels_as_strings.csv')\n",
    "DF_SUBMI =      pd.read_csv(PATH/'stage_1_sample_submission.csv')\n",
    "\n",
    "\n",
    "\n",
    "DF_SUBMI['fn'] = DF_SUBMI.ID.apply(lambda x: '_'.join(x.split('_')[:2]) + '.png')\n",
    "DF_TRAIN['labels'].fillna('', inplace=True)\n",
    "VAL_IDX = strt_split(DF_TRAIN['fn'], DF_TRAIN['labels'])[FOLD]"
   ]
  },
  {
   "cell_type": "code",
   "execution_count": 4,
   "metadata": {
    "scrolled": false
   },
   "outputs": [],
   "source": [
    "ItemList.label_from_df = modified_label_from_df\n",
    "test_fns = DF_SUBMI.fn.unique()\n",
    "tfms = get_transforms(max_rotate=180, flip_vert=True, max_zoom=1.3)\n",
    "\n",
    "data = (ImageList.from_csv('..', 'train_labels_as_strings.csv', folder=IMG_TRAIN_224.name)\n",
    "        .split_by_idxs(valid_idx=VAL_IDX[0], train_idx=VAL_IDX[1])\n",
    "        .label_from_df(label_delim=' ')\n",
    "        .transform(tfms = tfms,size=SZ)\n",
    "        .add_test('../' +IMG_TEST_224.name + '/' + test_fns)\n",
    "        .databunch(bs=BS)\n",
    "        .normalize(imagenet_stats))\n",
    "\n",
    "        "
   ]
  },
  {
   "cell_type": "code",
   "execution_count": 5,
   "metadata": {},
   "outputs": [
    {
     "name": "stdout",
     "output_type": "stream",
     "text": [
      "Loaded pretrained weights for efficientnet-b4\n"
     ]
    }
   ],
   "source": [
    "md_ef =  EfficientNet.from_pretrained('efficientnet-b4', num_classes=data.c)\n",
    "#opt_func = partial(Ranger, betas=(0.92,0.99), eps=1e-6)"
   ]
  },
  {
   "cell_type": "code",
   "execution_count": null,
   "metadata": {},
   "outputs": [],
   "source": [
    "data.show_batch()"
   ]
  },
  {
   "cell_type": "code",
   "execution_count": 6,
   "metadata": {
    "scrolled": false
   },
   "outputs": [],
   "source": [
    "learn = Learner(data,\n",
    "                md_ef,\n",
    "                wd=1e-2,\n",
    "                bn_wd=False, \n",
    "                true_wd=True, \n",
    "                metrics=[accuracy_thresh])\n",
    "\n",
    "weights = [2, 1, 1, 1, 1, 1]\n",
    "learn.loss_func  = torch.nn.BCEWithLogitsLoss(pos_weight=torch.FloatTensor(weights).cuda())\n",
    "learn.model = nn.DataParallel(learn.model)\n",
    "learn.to_fp16()\n",
    "learn.unfreeze()\n"
   ]
  },
  {
   "cell_type": "code",
   "execution_count": 9,
   "metadata": {
    "scrolled": false
   },
   "outputs": [
    {
     "data": {
      "text/plain": [
       "<matplotlib.lines.Line2D at 0x7f9e13db7790>"
      ]
     },
     "execution_count": 9,
     "metadata": {},
     "output_type": "execute_result"
    },
    {
     "data": {
      "image/png": "[encoded data removed]",
      "text/plain": [
       "<Figure size 432x288 with 1 Axes>"
      ]
     },
     "metadata": {
      "needs_background": "light"
     },
     "output_type": "display_data"
    }
   ],
   "source": [
    "lr = 1e-2/3\n",
    "learn.recorder.plot()\n",
    "plt.axvline(lr)"
   ]
  },
  {
   "cell_type": "code",
   "execution_count": 10,
   "metadata": {
    "scrolled": false
   },
   "outputs": [
    {
     "data": {
      "text/html": [
       "<table border=\"1\" class=\"dataframe\">\n",
       "  <thead>\n",
       "    <tr style=\"text-align: left;\">\n",
       "      <th>epoch</th>\n",
       "      <th>train_loss</th>\n",
       "      <th>valid_loss</th>\n",
       "      <th>accuracy_thresh</th>\n",
       "      <th>time</th>\n",
       "    </tr>\n",
       "  </thead>\n",
       "  <tbody>\n",
       "    <tr>\n",
       "      <td>0</td>\n",
       "      <td>0.097606</td>\n",
       "      <td>0.111762</td>\n",
       "      <td>0.969432</td>\n",
       "      <td>1:21:30</td>\n",
       "    </tr>\n",
       "    <tr>\n",
       "      <td>1</td>\n",
       "      <td>0.100827</td>\n",
       "      <td>0.105116</td>\n",
       "      <td>0.967574</td>\n",
       "      <td>1:21:50</td>\n",
       "    </tr>\n",
       "    <tr>\n",
       "      <td>2</td>\n",
       "      <td>0.090515</td>\n",
       "      <td>0.089868</td>\n",
       "      <td>0.972181</td>\n",
       "      <td>1:21:45</td>\n",
       "    </tr>\n",
       "    <tr>\n",
       "      <td>3</td>\n",
       "      <td>0.080862</td>\n",
       "      <td>0.081713</td>\n",
       "      <td>0.973033</td>\n",
       "      <td>1:22:14</td>\n",
       "    </tr>\n",
       "    <tr>\n",
       "      <td>4</td>\n",
       "      <td>0.077114</td>\n",
       "      <td>0.073163</td>\n",
       "      <td>0.975947</td>\n",
       "      <td>1:21:55</td>\n",
       "    </tr>\n",
       "    <tr>\n",
       "      <td>5</td>\n",
       "      <td>0.068039</td>\n",
       "      <td>0.067278</td>\n",
       "      <td>0.977993</td>\n",
       "      <td>1:22:01</td>\n",
       "    </tr>\n",
       "    <tr>\n",
       "      <td>6</td>\n",
       "      <td>0.065647</td>\n",
       "      <td>0.065829</td>\n",
       "      <td>0.978151</td>\n",
       "      <td>1:21:55</td>\n",
       "    </tr>\n",
       "  </tbody>\n",
       "</table>"
      ],
      "text/plain": [
       "<IPython.core.display.HTML object>"
      ]
     },
     "metadata": {},
     "output_type": "display_data"
    },
    {
     "name": "stdout",
     "output_type": "stream",
     "text": [
      "Better model found at epoch 0 with valid_loss value: 0.11176228523254395.\n",
      "Better model found at epoch 1 with valid_loss value: 0.10511627048254013.\n",
      "Better model found at epoch 2 with valid_loss value: 0.08986813575029373.\n",
      "Better model found at epoch 3 with valid_loss value: 0.08171253651380539.\n",
      "Better model found at epoch 4 with valid_loss value: 0.07316319644451141.\n",
      "Better model found at epoch 5 with valid_loss value: 0.06727791577577591.\n",
      "Better model found at epoch 6 with valid_loss value: 0.06582917273044586.\n"
     ]
    }
   ],
   "source": [
    "learn.unfreeze()\n",
    "SUFFIX = 'UNFRZ'\n",
    "learn.fit_one_cycle(7,\n",
    "                    lr, \n",
    "                    callbacks=[SaveModelCallback(learn, every='improvement', monitor='valid_loss', name = f'{EXP_NAME}_{SUFFIX}')])"
   ]
  },
  {
   "cell_type": "code",
   "execution_count": 11,
   "metadata": {},
   "outputs": [],
   "source": [
    "def get_preds(learn:Learner, sub_fn: str=f'{EXP_NAME}_PHASE_1_COS', TTA: bool = False, dt_type = DatasetType.Test):\n",
    "    if TTA:\n",
    "        learn.to_fp32()\n",
    "        preds, targs = learn.TTA(ds_type=dt_type)\n",
    "        sub_fn = f'{sub_fn}_TTA'\n",
    "    else:\n",
    "        preds, targs = learn.get_preds(dt_type)\n",
    "    ids = []\n",
    "    labels = []\n",
    "\n",
    "    for fn, pred in zip(test_fns, preds):\n",
    "        for i, label in enumerate(data.train_ds.classes):\n",
    "            ids.append(f\"{fn.split('.')[0]}_{label}\")\n",
    "            predicted_probability = '{0:1.10f}'.format(pred[i].item())\n",
    "            labels.append(predicted_probability)\n",
    "    pd.DataFrame({'ID': ids, 'Label': labels}).to_csv(f'{sub_fn}.csv', index=False)"
   ]
  },
  {
   "cell_type": "code",
   "execution_count": 12,
   "metadata": {},
   "outputs": [],
   "source": [
    "get_preds(learn)"
   ]
  },
  {
   "cell_type": "code",
   "execution_count": 13,
   "metadata": {},
   "outputs": [
    {
     "data": {
      "text/html": [],
      "text/plain": [
       "<IPython.core.display.HTML object>"
      ]
     },
     "metadata": {},
     "output_type": "display_data"
    }
   ],
   "source": [
    "get_preds(learn, TTA=True)"
   ]
  },
  {
   "cell_type": "code",
   "execution_count": 8,
   "metadata": {},
   "outputs": [
    {
     "data": {
      "text/html": [],
      "text/plain": [
       "<IPython.core.display.HTML object>"
      ]
     },
     "metadata": {},
     "output_type": "display_data"
    },
    {
     "name": "stdout",
     "output_type": "stream",
     "text": [
      "LR Finder is complete, type {learner_name}.recorder.plot() to see the graph.\n"
     ]
    }
   ],
   "source": [
    "learn.load('NB_EXP_310_CV_0_380_UNFRZ')\n",
    "learn.unfreeze()\n",
    "learn.lr_find()"
   ]
  },
  {
   "cell_type": "code",
   "execution_count": 12,
   "metadata": {},
   "outputs": [
    {
     "data": {
      "text/plain": [
       "<matplotlib.lines.Line2D at 0x7fbb1e844510>"
      ]
     },
     "execution_count": 12,
     "metadata": {},
     "output_type": "execute_result"
    },
    {
     "data": {
      "image/png": "[encoded data removed]",
      "text/plain": [
       "<Figure size 432x288 with 1 Axes>"
      ]
     },
     "metadata": {
      "needs_background": "light"
     },
     "output_type": "display_data"
    }
   ],
   "source": [
    "lr = 1e-4/5\n",
    "learn.recorder.plot()\n",
    "plt.axvline(lr)"
   ]
  },
  {
   "cell_type": "code",
   "execution_count": 13,
   "metadata": {},
   "outputs": [
    {
     "data": {
      "text/html": [
       "<table border=\"1\" class=\"dataframe\">\n",
       "  <thead>\n",
       "    <tr style=\"text-align: left;\">\n",
       "      <th>epoch</th>\n",
       "      <th>train_loss</th>\n",
       "      <th>valid_loss</th>\n",
       "      <th>accuracy_thresh</th>\n",
       "      <th>time</th>\n",
       "    </tr>\n",
       "  </thead>\n",
       "  <tbody>\n",
       "    <tr>\n",
       "      <td>0</td>\n",
       "      <td>0.068123</td>\n",
       "      <td>0.065857</td>\n",
       "      <td>0.978200</td>\n",
       "      <td>1:19:01</td>\n",
       "    </tr>\n",
       "    <tr>\n",
       "      <td>1</td>\n",
       "      <td>0.063911</td>\n",
       "      <td>0.065822</td>\n",
       "      <td>0.978253</td>\n",
       "      <td>1:19:48</td>\n",
       "    </tr>\n",
       "    <tr>\n",
       "      <td>2</td>\n",
       "      <td>0.068249</td>\n",
       "      <td>0.065655</td>\n",
       "      <td>0.978151</td>\n",
       "      <td>1:20:03</td>\n",
       "    </tr>\n",
       "    <tr>\n",
       "      <td>3</td>\n",
       "      <td>0.066021</td>\n",
       "      <td>0.065640</td>\n",
       "      <td>0.978252</td>\n",
       "      <td>1:20:14</td>\n",
       "    </tr>\n",
       "    <tr>\n",
       "      <td>4</td>\n",
       "      <td>0.065749</td>\n",
       "      <td>0.065643</td>\n",
       "      <td>0.978203</td>\n",
       "      <td>1:20:15</td>\n",
       "    </tr>\n",
       "  </tbody>\n",
       "</table>"
      ],
      "text/plain": [
       "<IPython.core.display.HTML object>"
      ]
     },
     "metadata": {},
     "output_type": "display_data"
    },
    {
     "name": "stdout",
     "output_type": "stream",
     "text": [
      "Better model found at epoch 0 with valid_loss value: 0.06585676968097687.\n",
      "Better model found at epoch 1 with valid_loss value: 0.06582224369049072.\n",
      "Better model found at epoch 2 with valid_loss value: 0.06565467268228531.\n",
      "Better model found at epoch 3 with valid_loss value: 0.06564020365476608.\n"
     ]
    }
   ],
   "source": [
    "learn.unfreeze()\n",
    "SUFFIX = 'UNFRZ'\n",
    "learn.fit_one_cycle(5,\n",
    "                    lr, \n",
    "                    callbacks=[SaveModelCallback(learn, every='improvement', monitor='valid_loss', name = f'{EXP_NAME}_{SUFFIX}')])"
   ]
  },
  {
   "cell_type": "code",
   "execution_count": 14,
   "metadata": {},
   "outputs": [],
   "source": [
    "def get_preds(learn:Learner, sub_fn: str=f'{EXP_NAME}_PHASE_2_COS', TTA: bool = False, dt_type = DatasetType.Test):\n",
    "    if TTA:\n",
    "        learn.to_fp32()\n",
    "        preds, targs = learn.TTA(ds_type=dt_type)\n",
    "        sub_fn = f'{sub_fn}_TTA'\n",
    "    else:\n",
    "        preds, targs = learn.get_preds(dt_type)\n",
    "    ids = []\n",
    "    labels = []\n",
    "\n",
    "    for fn, pred in zip(test_fns, preds):\n",
    "        for i, label in enumerate(data.train_ds.classes):\n",
    "            ids.append(f\"{fn.split('.')[0]}_{label}\")\n",
    "            predicted_probability = '{0:1.10f}'.format(pred[i].item())\n",
    "            labels.append(predicted_probability)\n",
    "    pd.DataFrame({'ID': ids, 'Label': labels}).to_csv(f'{sub_fn}.csv', index=False)"
   ]
  },
  {
   "cell_type": "code",
   "execution_count": 15,
   "metadata": {},
   "outputs": [],
   "source": [
    "get_preds(learn)"
   ]
  },
  {
   "cell_type": "code",
   "execution_count": null,
   "metadata": {},
   "outputs": [
    {
     "data": {
      "text/html": [
       "\n",
       "    <div>\n",
       "        <style>\n",
       "            /* Turns off some styling */\n",
       "            progress {\n",
       "                /* gets rid of default border in Firefox and Opera. */\n",
       "                border: none;\n",
       "                /* Needs to be in here for Safari polyfill so background images work as expected. */\n",
       "                background-size: auto;\n",
       "            }\n",
       "            .progress-bar-interrupted, .progress-bar-interrupted::-webkit-progress-bar {\n",
       "                background: #F44336;\n",
       "            }\n",
       "        </style>\n",
       "      <progress value='7' class='' max='8', style='width:300px; height:20px; vertical-align: middle;'></progress>\n",
       "      87.50% [7/8 35:17<05:02]\n",
       "    </div>\n",
       "    \n",
       "\n",
       "\n",
       "    <div>\n",
       "        <style>\n",
       "            /* Turns off some styling */\n",
       "            progress {\n",
       "                /* gets rid of default border in Firefox and Opera. */\n",
       "                border: none;\n",
       "                /* Needs to be in here for Safari polyfill so background images work as expected. */\n",
       "                background-size: auto;\n",
       "            }\n",
       "            .progress-bar-interrupted, .progress-bar-interrupted::-webkit-progress-bar {\n",
       "                background: #F44336;\n",
       "            }\n",
       "        </style>\n",
       "      <progress value='427' class='' max='427', style='width:300px; height:20px; vertical-align: middle;'></progress>\n",
       "      100.00% [427/427 05:06<00:00]\n",
       "    </div>\n",
       "    "
      ],
      "text/plain": [
       "<IPython.core.display.HTML object>"
      ]
     },
     "metadata": {},
     "output_type": "display_data"
    }
   ],
   "source": [
    "get_preds(learn, TTA=True)"
   ]
  },
  {
   "cell_type": "code",
   "execution_count": null,
   "metadata": {},
   "outputs": [],
   "source": [
    "!sudo shutdown"
   ]
  },
  {
   "cell_type": "code",
   "execution_count": null,
   "metadata": {},
   "outputs": [],
   "source": []
  }
 ],
 "metadata": {
  "kernelspec": {
   "display_name": "Python 3",
   "language": "python",
   "name": "python3"
  },
  "language_info": {
   "codemirror_mode": {
    "name": "ipython",
    "version": 3
   },
   "file_extension": ".py",
   "mimetype": "text/x-python",
   "name": "python",
   "nbconvert_exporter": "python",
   "pygments_lexer": "ipython3",
   "version": "3.7.4"
  }
 },
 "nbformat": 4,
 "nbformat_minor": 2
}
